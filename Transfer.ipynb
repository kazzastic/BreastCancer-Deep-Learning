{
  "nbformat": 4,
  "nbformat_minor": 0,
  "metadata": {
    "colab": {
      "name": "Transfer.ipynb",
      "provenance": [],
      "collapsed_sections": [],
      "include_colab_link": true
    },
    "kernelspec": {
      "name": "python3",
      "display_name": "Python 3"
    },
    "accelerator": "GPU"
  },
  "cells": [
    {
      "cell_type": "markdown",
      "metadata": {
        "id": "view-in-github",
        "colab_type": "text"
      },
      "source": [
        "<a href=\"https://colab.research.google.com/github/kazzastic/BreastCancer-Deep-Learning/blob/master/Transfer.ipynb\" target=\"_parent\"><img src=\"https://colab.research.google.com/assets/colab-badge.svg\" alt=\"Open In Colab\"/></a>"
      ]
    },
    {
      "cell_type": "code",
      "metadata": {
        "id": "a6kNQBtE3qRk",
        "colab_type": "code",
        "outputId": "cba165f4-6220-4555-c67c-c9309d20160d",
        "colab": {
          "base_uri": "https://localhost:8080/",
          "height": 125
        }
      },
      "source": [
        "from google.colab import drive\n",
        "drive.mount('/content/drive')"
      ],
      "execution_count": 1,
      "outputs": [
        {
          "output_type": "stream",
          "text": [
            "Go to this URL in a browser: https://accounts.google.com/o/oauth2/auth?client_id=947318989803-6bn6qk8qdgf4n4g3pfee6491hc0brc4i.apps.googleusercontent.com&redirect_uri=urn%3aietf%3awg%3aoauth%3a2.0%3aoob&response_type=code&scope=email%20https%3a%2f%2fwww.googleapis.com%2fauth%2fdocs.test%20https%3a%2f%2fwww.googleapis.com%2fauth%2fdrive%20https%3a%2f%2fwww.googleapis.com%2fauth%2fdrive.photos.readonly%20https%3a%2f%2fwww.googleapis.com%2fauth%2fpeopleapi.readonly\n",
            "\n",
            "Enter your authorization code:\n",
            "··········\n",
            "Mounted at /content/drive\n"
          ],
          "name": "stdout"
        }
      ]
    },
    {
      "cell_type": "code",
      "metadata": {
        "id": "JKuOROWumQBa",
        "colab_type": "code",
        "colab": {
          "base_uri": "https://localhost:8080/",
          "height": 81
        },
        "outputId": "32542d1f-4a8d-4b36-ccf0-344141fd7643"
      },
      "source": [
        "import tensorflow as tf\n",
        "from tensorflow.keras.applications.vgg16 import VGG16\n",
        "from tensorflow.keras.layers import GlobalAveragePooling2D, Dropout, Dense\n",
        "from tensorflow.keras.models import Model\n",
        "from keras.preprocessing.image import ImageDataGenerator\n",
        "from tensorflow.keras.layers import Dense, Dropout, Activation, Flatten\n",
        "from tensorflow.keras.layers import Conv2D, MaxPooling2D\n",
        "from tensorflow.keras.models import Sequential"
      ],
      "execution_count": 2,
      "outputs": [
        {
          "output_type": "display_data",
          "data": {
            "text/html": [
              "<p style=\"color: red;\">\n",
              "The default version of TensorFlow in Colab will soon switch to TensorFlow 2.x.<br>\n",
              "We recommend you <a href=\"https://www.tensorflow.org/guide/migrate\" target=\"_blank\">upgrade</a> now \n",
              "or ensure your notebook will continue to use TensorFlow 1.x via the <code>%tensorflow_version 1.x</code> magic:\n",
              "<a href=\"https://colab.research.google.com/notebooks/tensorflow_version.ipynb\" target=\"_blank\">more info</a>.</p>\n"
            ],
            "text/plain": [
              "<IPython.core.display.HTML object>"
            ]
          },
          "metadata": {
            "tags": []
          }
        },
        {
          "output_type": "stream",
          "text": [
            "Using TensorFlow backend.\n"
          ],
          "name": "stderr"
        }
      ]
    },
    {
      "cell_type": "code",
      "metadata": {
        "id": "fNFtdGPuqS1d",
        "colab_type": "code",
        "colab": {
          "base_uri": "https://localhost:8080/",
          "height": 125
        },
        "outputId": "1bbfa463-3d1b-4112-d0e4-e77459602401"
      },
      "source": [
        "base_model = VGG16(weights='imagenet', include_top=False, input_shape = (227,227,3))"
      ],
      "execution_count": 3,
      "outputs": [
        {
          "output_type": "stream",
          "text": [
            "WARNING:tensorflow:From /usr/local/lib/python3.6/dist-packages/tensorflow_core/python/ops/resource_variable_ops.py:1630: calling BaseResourceVariable.__init__ (from tensorflow.python.ops.resource_variable_ops) with constraint is deprecated and will be removed in a future version.\n",
            "Instructions for updating:\n",
            "If using Keras pass *_constraint arguments to layers.\n",
            "Downloading data from https://github.com/fchollet/deep-learning-models/releases/download/v0.1/vgg16_weights_tf_dim_ordering_tf_kernels_notop.h5\n",
            "58892288/58889256 [==============================] - 2s 0us/step\n"
          ],
          "name": "stdout"
        }
      ]
    },
    {
      "cell_type": "code",
      "metadata": {
        "id": "hBrp3EpxqtJD",
        "colab_type": "code",
        "colab": {
          "base_uri": "https://localhost:8080/",
          "height": 54
        },
        "outputId": "025aa046-7da6-48dc-edd3-ec6497566bff"
      },
      "source": [
        "'''\n",
        "CLASSES = 2\n",
        "x = base_model.output\n",
        "x = GlobalAveragePooling2D(name='avg_pool')(x)\n",
        "x = Dropout(0.4)(x)\n",
        "predictions = Dense(CLASSES, activation='softmax')(x)\n",
        "model = Model(inputs=base_model.input, outputs=predictions)\n",
        "'''\n"
      ],
      "execution_count": 37,
      "outputs": [
        {
          "output_type": "execute_result",
          "data": {
            "text/plain": [
              "\"\\nCLASSES = 2\\nx = base_model.output\\nx = GlobalAveragePooling2D(name='avg_pool')(x)\\nx = Dropout(0.4)(x)\\npredictions = Dense(CLASSES, activation='softmax')(x)\\nmodel = Model(inputs=base_model.input, outputs=predictions)\\n\""
            ]
          },
          "metadata": {
            "tags": []
          },
          "execution_count": 37
        }
      ]
    },
    {
      "cell_type": "code",
      "metadata": {
        "id": "inoWZ5QKo-hb",
        "colab_type": "code",
        "colab": {}
      },
      "source": [
        "base_model.trainable = False"
      ],
      "execution_count": 0,
      "outputs": []
    },
    {
      "cell_type": "code",
      "metadata": {
        "id": "siB0dzMdm4xV",
        "colab_type": "code",
        "colab": {}
      },
      "source": [
        "add_model = Sequential()\n",
        "add_model.add(base_model)\n",
        "add_model.add(Conv2D(96, kernel_size=5, strides=1))\n",
        "add_model.add(Activation('relu'))\n",
        "\n",
        "add_model.add(Conv2D(256, kernel_size=3, strides=1))\n",
        "add_model.add(Activation('relu'))\n",
        "\n",
        "#add_model.add(Conv2D(96, kernel_size=3, strides=1))\n",
        "#add_model.add(Activation('relu'))\n",
        "\n",
        "#add_model.add(GlobalAveragePooling2D())\n",
        "#add_model.add(Dropout(0.5))\n",
        "add_model.add(Flatten())\n",
        "add_model.add(Dense(2))\n",
        "add_model.add(Activation('sigmoid'))\n",
        "\n",
        "\n",
        "model = add_model\n",
        "kazim = tf.keras.optimizers.Adam(learning_rate=0.001)\n",
        "#tensorboard = TensorBoard(log_dir=\"logs/{}\".format(NAME))\n",
        "\n",
        "model.compile(loss='binary_crossentropy',\n",
        "              optimizer=kazim,\n",
        "              metrics=['accuracy'],\n",
        "              )"
      ],
      "execution_count": 0,
      "outputs": []
    },
    {
      "cell_type": "code",
      "metadata": {
        "id": "Cc4OJdqcAYlj",
        "colab_type": "code",
        "colab": {}
      },
      "source": [
        "for layer in base_model.layers:\n",
        "    layer.trainable = False"
      ],
      "execution_count": 0,
      "outputs": []
    },
    {
      "cell_type": "code",
      "metadata": {
        "id": "Idd3COtRpbHr",
        "colab_type": "code",
        "colab": {
          "base_uri": "https://localhost:8080/",
          "height": 443
        },
        "outputId": "12375235-4163-4b9d-9761-f8490ccb359c"
      },
      "source": [
        "model.summary()"
      ],
      "execution_count": 19,
      "outputs": [
        {
          "output_type": "stream",
          "text": [
            "Model: \"sequential_2\"\n",
            "_________________________________________________________________\n",
            "Layer (type)                 Output Shape              Param #   \n",
            "=================================================================\n",
            "vgg16 (Model)                (None, 7, 7, 512)         14714688  \n",
            "_________________________________________________________________\n",
            "conv2d_4 (Conv2D)            (None, 3, 3, 96)          1228896   \n",
            "_________________________________________________________________\n",
            "activation_6 (Activation)    (None, 3, 3, 96)          0         \n",
            "_________________________________________________________________\n",
            "conv2d_5 (Conv2D)            (None, 1, 1, 256)         221440    \n",
            "_________________________________________________________________\n",
            "activation_7 (Activation)    (None, 1, 1, 256)         0         \n",
            "_________________________________________________________________\n",
            "flatten_1 (Flatten)          (None, 256)               0         \n",
            "_________________________________________________________________\n",
            "dense_2 (Dense)              (None, 2)                 514       \n",
            "_________________________________________________________________\n",
            "activation_8 (Activation)    (None, 2)                 0         \n",
            "=================================================================\n",
            "Total params: 16,165,538\n",
            "Trainable params: 1,450,850\n",
            "Non-trainable params: 14,714,688\n",
            "_________________________________________________________________\n"
          ],
          "name": "stdout"
        }
      ]
    },
    {
      "cell_type": "code",
      "metadata": {
        "id": "mQrTsupkBzPe",
        "colab_type": "code",
        "colab": {}
      },
      "source": [
        "train_data_dir = '/content/drive/My Drive/Augmented '"
      ],
      "execution_count": 0,
      "outputs": []
    },
    {
      "cell_type": "code",
      "metadata": {
        "id": "u1ybBphsEL-X",
        "colab_type": "code",
        "colab": {
          "base_uri": "https://localhost:8080/",
          "height": 52
        },
        "outputId": "bd0d3468-b792-40b9-e03d-181dccc2e17a"
      },
      "source": [
        "# Pixel values rescaling from [0, 255] to [0, 1] interval\n",
        "datagen = ImageDataGenerator(rescale=1. / 255, validation_split=0.2)\n",
        "batch_size = 32\n",
        "img_width, img_height = 227, 227\n",
        "# Retrieve images and their classes for train and validation sets\n",
        "train_generator = datagen.flow_from_directory(\n",
        "        train_data_dir,\n",
        "        target_size=(img_width, img_height),\n",
        "        shuffle = True,\n",
        "        batch_size=batch_size,\n",
        "        #class_mode='binary',\n",
        "        subset = 'training')\n",
        "\n",
        "validation_generator = datagen.flow_from_directory(\n",
        "        train_data_dir,\n",
        "        target_size=(img_width, img_height),\n",
        "        shuffle = True,\n",
        "        batch_size=batch_size,\n",
        "        #class_mode='binary',\n",
        "        subset = 'validation')"
      ],
      "execution_count": 21,
      "outputs": [
        {
          "output_type": "stream",
          "text": [
            "Found 7716 images belonging to 2 classes.\n",
            "Found 1929 images belonging to 2 classes.\n"
          ],
          "name": "stdout"
        }
      ]
    },
    {
      "cell_type": "code",
      "metadata": {
        "id": "JwTONdlaGaob",
        "colab_type": "code",
        "colab": {}
      },
      "source": [
        "epochs = 100\n",
        "train_samples = 7716\n",
        "validation_samples = 1929"
      ],
      "execution_count": 0,
      "outputs": []
    },
    {
      "cell_type": "code",
      "metadata": {
        "id": "o8E2daORFgW0",
        "colab_type": "code",
        "colab": {
          "base_uri": "https://localhost:8080/",
          "height": 1000
        },
        "outputId": "38262669-f13e-4a60-cea9-6a5b63a86b67"
      },
      "source": [
        "from keras.callbacks import EarlyStopping, ModelCheckpoint\n",
        "# Model saving callback\n",
        "\n",
        "checkpointer = ModelCheckpoint(filepath='Breast.h5', monitor='val_acc', verbose=1, save_best_only=True)\n",
        "\n",
        "# Early stopping\n",
        "early_stopping = EarlyStopping(monitor='val_acc', verbose=1, patience=5)\n",
        "\n",
        "history = model.fit_generator(\n",
        "        train_generator,\n",
        "        steps_per_epoch=32,\n",
        "        epochs=epochs,\n",
        "        validation_data = validation_generator,\n",
        "        validation_steps = 32,\n",
        "        callbacks=[checkpointer, early_stopping],\n",
        "        verbose=1)"
      ],
      "execution_count": 0,
      "outputs": [
        {
          "output_type": "stream",
          "text": [
            "Epoch 1/100\n",
            "31/32 [============================>.] - ETA: 11s - loss: 0.7019 - acc: 0.6124Epoch 1/100\n",
            "32/32 [==============================] - 646s 20s/step - loss: 0.6185 - acc: 0.6704\n",
            "\n",
            "Epoch 00001: val_acc improved from -inf to 0.67041, saving model to Breast.h5\n",
            "32/32 [==============================] - 1029s 32s/step - loss: 0.7061 - acc: 0.6108 - val_loss: 0.6185 - val_acc: 0.6704\n",
            "Epoch 2/100\n",
            "31/32 [============================>.] - ETA: 7s - loss: 0.6335 - acc: 0.6401 Epoch 1/100\n",
            "32/32 [==============================] - 438s 14s/step - loss: 0.5966 - acc: 0.7012\n",
            "\n",
            "Epoch 00002: val_acc improved from 0.67041 to 0.70117, saving model to Breast.h5\n",
            "32/32 [==============================] - 685s 21s/step - loss: 0.6335 - acc: 0.6411 - val_loss: 0.5966 - val_acc: 0.7012\n",
            "Epoch 3/100\n",
            "31/32 [============================>.] - ETA: 7s - loss: 0.6012 - acc: 0.6649 Epoch 1/100\n",
            "32/32 [==============================] - 443s 14s/step - loss: 0.6042 - acc: 0.7061\n",
            "\n",
            "Epoch 00003: val_acc improved from 0.70117 to 0.70605, saving model to Breast.h5\n",
            "32/32 [==============================] - 688s 22s/step - loss: 0.6056 - acc: 0.6596 - val_loss: 0.6042 - val_acc: 0.7061\n",
            "Epoch 4/100\n",
            "31/32 [============================>.] - ETA: 7s - loss: 0.6158 - acc: 0.6527 Epoch 1/100\n",
            "32/32 [==============================] - 444s 14s/step - loss: 0.6720 - acc: 0.6230\n",
            "\n",
            "Epoch 00004: val_acc did not improve from 0.70605\n",
            "32/32 [==============================] - 694s 22s/step - loss: 0.6180 - acc: 0.6509 - val_loss: 0.6720 - val_acc: 0.6230\n",
            "Epoch 5/100\n",
            "31/32 [============================>.] - ETA: 7s - loss: 0.5697 - acc: 0.7122 Epoch 1/100\n",
            "32/32 [==============================] - 441s 14s/step - loss: 0.5782 - acc: 0.6968\n",
            "\n",
            "Epoch 00005: val_acc did not improve from 0.70605\n",
            "32/32 [==============================] - 694s 22s/step - loss: 0.5655 - acc: 0.7144 - val_loss: 0.5782 - val_acc: 0.6968\n",
            "Epoch 6/100\n",
            "31/32 [============================>.] - ETA: 7s - loss: 0.5803 - acc: 0.6981 Epoch 1/100\n",
            "32/32 [==============================] - 437s 14s/step - loss: 0.5673 - acc: 0.7241\n",
            "\n",
            "Epoch 00006: val_acc improved from 0.70605 to 0.72412, saving model to Breast.h5\n",
            "32/32 [==============================] - 687s 21s/step - loss: 0.5894 - acc: 0.6938 - val_loss: 0.5673 - val_acc: 0.7241\n",
            "Epoch 7/100\n",
            "31/32 [============================>.] - ETA: 7s - loss: 0.6304 - acc: 0.6416 Epoch 1/100\n",
            "32/32 [==============================] - 438s 14s/step - loss: 0.5717 - acc: 0.6929\n",
            "\n",
            "Epoch 00007: val_acc did not improve from 0.72412\n",
            "32/32 [==============================] - 686s 21s/step - loss: 0.6295 - acc: 0.6445 - val_loss: 0.5717 - val_acc: 0.6929\n",
            "Epoch 8/100\n",
            "31/32 [============================>.] - ETA: 7s - loss: 0.5908 - acc: 0.6935 Epoch 1/100\n",
            "32/32 [==============================] - 439s 14s/step - loss: 0.5546 - acc: 0.7246\n",
            "\n",
            "Epoch 00008: val_acc improved from 0.72412 to 0.72461, saving model to Breast.h5\n",
            "32/32 [==============================] - 687s 21s/step - loss: 0.5887 - acc: 0.6938 - val_loss: 0.5546 - val_acc: 0.7246\n",
            "Epoch 9/100\n",
            "31/32 [============================>.] - ETA: 7s - loss: 0.5468 - acc: 0.7324 Epoch 1/100\n",
            "32/32 [==============================] - 442s 14s/step - loss: 0.5477 - acc: 0.7280\n",
            "\n",
            "Epoch 00009: val_acc improved from 0.72461 to 0.72803, saving model to Breast.h5\n",
            "32/32 [==============================] - 686s 21s/step - loss: 0.5441 - acc: 0.7334 - val_loss: 0.5477 - val_acc: 0.7280\n",
            "Epoch 10/100\n",
            "31/32 [============================>.] - ETA: 7s - loss: 0.5257 - acc: 0.7515 Epoch 1/100\n",
            " 6/32 [====>.........................] - ETA: 7:41 - loss: 0.5394 - acc: 0.7214"
          ],
          "name": "stdout"
        }
      ]
    },
    {
      "cell_type": "code",
      "metadata": {
        "id": "GUdHs68gHeOD",
        "colab_type": "code",
        "colab": {}
      },
      "source": [
        ""
      ],
      "execution_count": 0,
      "outputs": []
    }
  ]
}