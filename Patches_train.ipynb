{
  "nbformat": 4,
  "nbformat_minor": 0,
  "metadata": {
    "accelerator": "GPU",
    "colab": {
      "name": "Patches train.ipynb",
      "provenance": [],
      "collapsed_sections": [],
      "toc_visible": true,
      "include_colab_link": true
    },
    "kernelspec": {
      "display_name": "Python 3",
      "language": "python",
      "name": "python3"
    },
    "language_info": {
      "codemirror_mode": {
        "name": "ipython",
        "version": 3
      },
      "file_extension": ".py",
      "mimetype": "text/x-python",
      "name": "python",
      "nbconvert_exporter": "python",
      "pygments_lexer": "ipython3",
      "version": "3.6.9"
    }
  },
  "cells": [
    {
      "cell_type": "markdown",
      "metadata": {
        "id": "view-in-github",
        "colab_type": "text"
      },
      "source": [
        "<a href=\"https://colab.research.google.com/github/kazzastic/BreastCancer-Deep-Learning/blob/master/Patches_train.ipynb\" target=\"_parent\"><img src=\"https://colab.research.google.com/assets/colab-badge.svg\" alt=\"Open In Colab\"/></a>"
      ]
    },
    {
      "cell_type": "code",
      "metadata": {
        "id": "W_61Z46kMVbW",
        "colab_type": "code",
        "outputId": "023cbafc-e54c-4ab5-f64f-918670510f2a",
        "colab": {
          "base_uri": "https://localhost:8080/",
          "height": 54
        }
      },
      "source": [
        "from google.colab import drive\n",
        "drive.mount('/content/drive')"
      ],
      "execution_count": 209,
      "outputs": [
        {
          "output_type": "stream",
          "text": [
            "Drive already mounted at /content/drive; to attempt to forcibly remount, call drive.mount(\"/content/drive\", force_remount=True).\n"
          ],
          "name": "stdout"
        }
      ]
    },
    {
      "cell_type": "code",
      "metadata": {
        "id": "3dYlDANMMWph",
        "colab_type": "code",
        "colab": {}
      },
      "source": [
        "import tensorflow as tf\n",
        "from tensorflow.keras.applications.vgg16 import VGG16\n",
        "from tensorflow.keras.layers import GlobalAveragePooling2D, Dropout, Dense\n",
        "from tensorflow.keras.models import Model\n",
        "from keras.preprocessing.image import ImageDataGenerator\n",
        "from tensorflow.keras.layers import Dense, Dropout, Activation, Flatten\n",
        "from tensorflow.keras.layers import Conv2D, MaxPooling2D\n",
        "from tensorflow.keras.models import Sequential\n",
        "from tensorflow.keras.callbacks import ReduceLROnPlateau\n",
        "from tensorflow.keras.regularizers import l2\n",
        "from tensorflow.keras.optimizers import Adam, SGD"
      ],
      "execution_count": 0,
      "outputs": []
    },
    {
      "cell_type": "code",
      "metadata": {
        "id": "eKtG5QVRMp3G",
        "colab_type": "code",
        "colab": {}
      },
      "source": [
        "base_model = VGG16(weights='imagenet', include_top=False, input_shape = (227,227,3), pooling = 'avg')\n",
        "x = base_model.output\n",
        "preds = Dense(3, activation='softmax', kernel_regularizer=l2(0.01))(x)\n",
        "model = Model(inputs=base_model.input, outputs=preds)\n",
        "top_layer_nb = 15\n",
        "class_weight = {0:1.0, 1:pos_cls_weight, 2:neg_cls_weight} "
      ],
      "execution_count": 0,
      "outputs": []
    },
    {
      "cell_type": "code",
      "metadata": {
        "id": "uyjGW3m5Culk",
        "colab_type": "code",
        "colab": {}
      },
      "source": [
        "org_model = model"
      ],
      "execution_count": 0,
      "outputs": []
    },
    {
      "cell_type": "code",
      "metadata": {
        "id": "5-RrDTg1MuUr",
        "colab_type": "code",
        "colab": {}
      },
      "source": [
        "from keras.callbacks import EarlyStopping, ModelCheckpoint\n",
        "# Model saving callback\n",
        "\n",
        "checkpointer = ModelCheckpoint(filepath='Patch_CNN.h5', monitor='val_acc', verbose=1, save_best_only=True)\n",
        "\n",
        "# Early stopping\n",
        "early_stopping = EarlyStopping(monitor='val_acc', verbose=1, patience=5)\n",
        "\n",
        "#ReduceLROnPlateau\n",
        "reduce_lr = ReduceLROnPlateau(monitor = 'val_loss', factor = 0.5, partience = 2, verbose = 1)\n",
        "\n",
        "#setting the learning rate\n",
        "Adam = Adam(learning_rate=0.001)\n",
        "SGD = SGD(learning_rate=0.001)"
      ],
      "execution_count": 0,
      "outputs": []
    },
    {
      "cell_type": "markdown",
      "metadata": {
        "id": "-zmXdRVnENkj",
        "colab_type": "text"
      },
      "source": [
        "# First Stage Of training with learning rate 0.001"
      ]
    },
    {
      "cell_type": "code",
      "metadata": {
        "id": "wD1trlerrg70",
        "colab_type": "code",
        "colab": {}
      },
      "source": [
        "pos_cls_weight, neg_cls_weight = 1., 1.\n",
        "for layer in org_model.layers[:-1]:\n",
        "  layer.trainable = False\n",
        "#class_weight = { 0:1.0, 1:pos_cls_weight, 2:neg_cls_weight }\n",
        "nb_worker = 1\n",
        "if nb_worker == 1:\n",
        "  pickle_safe = False\n",
        "else:\n",
        "  pickle_safe = True\n"
      ],
      "execution_count": 0,
      "outputs": []
    },
    {
      "cell_type": "code",
      "metadata": {
        "id": "4-uaSeJPIX2y",
        "colab_type": "code",
        "colab": {}
      },
      "source": [
        "train_data_dir = \"/content/drive/My Drive/patches_sort\""
      ],
      "execution_count": 0,
      "outputs": []
    },
    {
      "cell_type": "code",
      "metadata": {
        "id": "B4g5XUGV4Z_3",
        "colab_type": "code",
        "outputId": "fca22ed8-42f8-4692-ea06-0387edd6dd5e",
        "colab": {
          "base_uri": "https://localhost:8080/",
          "height": 52
        }
      },
      "source": [
        "datagen = ImageDataGenerator(validation_split=0.3)\n",
        "batch_size = 32\n",
        "img_width , img_height = 227, 227\n",
        "\n",
        "# Retrieve images and their classes for train and validation sets\n",
        "train_generator = datagen.flow_from_directory(\n",
        "        train_data_dir,\n",
        "        target_size=(img_width, img_height),\n",
        "        shuffle = True,\n",
        "        batch_size=batch_size,\n",
        "        #class_mode='binary',\n",
        "        subset = 'training')\n",
        "\n",
        "validation_generator = datagen.flow_from_directory(\n",
        "        train_data_dir,\n",
        "        target_size=(img_width, img_height),\n",
        "        shuffle = True,\n",
        "        batch_size=batch_size,\n",
        "        #class_mode='binary',\n",
        "        subset = 'validation')"
      ],
      "execution_count": 217,
      "outputs": [
        {
          "output_type": "stream",
          "text": [
            "Found 40530 images belonging to 3 classes.\n",
            "Found 17367 images belonging to 3 classes.\n"
          ],
          "name": "stdout"
        }
      ]
    },
    {
      "cell_type": "code",
      "metadata": {
        "id": "EUf5la0MC-G1",
        "colab_type": "code",
        "outputId": "ff0405f0-4538-4258-e206-8baaa71cd2d1",
        "colab": {
          "base_uri": "https://localhost:8080/",
          "height": 905
        }
      },
      "source": [
        "model.compile(loss='categorical_crossentropy',\n",
        "              optimizer=Adam,\n",
        "              metrics=['accuracy'],\n",
        "              )\n",
        "model.summary()"
      ],
      "execution_count": 218,
      "outputs": [
        {
          "output_type": "stream",
          "text": [
            "Model: \"model_20\"\n",
            "_________________________________________________________________\n",
            "Layer (type)                 Output Shape              Param #   \n",
            "=================================================================\n",
            "input_21 (InputLayer)        [(None, 227, 227, 3)]     0         \n",
            "_________________________________________________________________\n",
            "block1_conv1 (Conv2D)        (None, 227, 227, 64)      1792      \n",
            "_________________________________________________________________\n",
            "block1_conv2 (Conv2D)        (None, 227, 227, 64)      36928     \n",
            "_________________________________________________________________\n",
            "block1_pool (MaxPooling2D)   (None, 113, 113, 64)      0         \n",
            "_________________________________________________________________\n",
            "block2_conv1 (Conv2D)        (None, 113, 113, 128)     73856     \n",
            "_________________________________________________________________\n",
            "block2_conv2 (Conv2D)        (None, 113, 113, 128)     147584    \n",
            "_________________________________________________________________\n",
            "block2_pool (MaxPooling2D)   (None, 56, 56, 128)       0         \n",
            "_________________________________________________________________\n",
            "block3_conv1 (Conv2D)        (None, 56, 56, 256)       295168    \n",
            "_________________________________________________________________\n",
            "block3_conv2 (Conv2D)        (None, 56, 56, 256)       590080    \n",
            "_________________________________________________________________\n",
            "block3_conv3 (Conv2D)        (None, 56, 56, 256)       590080    \n",
            "_________________________________________________________________\n",
            "block3_pool (MaxPooling2D)   (None, 28, 28, 256)       0         \n",
            "_________________________________________________________________\n",
            "block4_conv1 (Conv2D)        (None, 28, 28, 512)       1180160   \n",
            "_________________________________________________________________\n",
            "block4_conv2 (Conv2D)        (None, 28, 28, 512)       2359808   \n",
            "_________________________________________________________________\n",
            "block4_conv3 (Conv2D)        (None, 28, 28, 512)       2359808   \n",
            "_________________________________________________________________\n",
            "block4_pool (MaxPooling2D)   (None, 14, 14, 512)       0         \n",
            "_________________________________________________________________\n",
            "block5_conv1 (Conv2D)        (None, 14, 14, 512)       2359808   \n",
            "_________________________________________________________________\n",
            "block5_conv2 (Conv2D)        (None, 14, 14, 512)       2359808   \n",
            "_________________________________________________________________\n",
            "block5_conv3 (Conv2D)        (None, 14, 14, 512)       2359808   \n",
            "_________________________________________________________________\n",
            "block5_pool (MaxPooling2D)   (None, 7, 7, 512)         0         \n",
            "_________________________________________________________________\n",
            "global_average_pooling2d_20  (None, 512)               0         \n",
            "_________________________________________________________________\n",
            "dense_20 (Dense)             (None, 3)                 1539      \n",
            "=================================================================\n",
            "Total params: 14,716,227\n",
            "Trainable params: 1,539\n",
            "Non-trainable params: 14,714,688\n",
            "_________________________________________________________________\n"
          ],
          "name": "stdout"
        }
      ]
    },
    {
      "cell_type": "markdown",
      "metadata": {
        "id": "Pm0Rh2cIE1Wo",
        "colab_type": "text"
      },
      "source": [
        "Run the cell below for about 3 to 4 epoch"
      ]
    },
    {
      "cell_type": "code",
      "metadata": {
        "id": "JkPvEss7DN1N",
        "colab_type": "code",
        "outputId": "ebef768f-7805-4e8e-8518-cf451f8a0a40",
        "colab": {
          "base_uri": "https://localhost:8080/",
          "height": 336
        }
      },
      "source": [
        "hist = model.fit_generator(\n",
        "        train_generator,\n",
        "        steps_per_epoch=32,\n",
        "        epochs=3,\n",
        "        validation_data = validation_generator,\n",
        "        validation_steps = 32,\n",
        "        callbacks=[checkpointer, early_stopping],\n",
        "        verbose=1,\n",
        "        class_weight = class_weight)"
      ],
      "execution_count": 219,
      "outputs": [
        {
          "output_type": "stream",
          "text": [
            "Epoch 1/3\n",
            "31/32 [============================>.] - ETA: 0s - loss: 1.6253 - acc: 0.3679Epoch 1/3\n",
            "32/32 [==============================] - 71s 2s/step - loss: 1.3610 - acc: 0.3848\n",
            "\n",
            "Epoch 00001: val_acc improved from -inf to 0.38477, saving model to Patch_CNN.h5\n",
            "32/32 [==============================] - 81s 3s/step - loss: 1.6031 - acc: 0.3779 - val_loss: 1.3610 - val_acc: 0.3848\n",
            "Epoch 2/3\n",
            "31/32 [============================>.] - ETA: 0s - loss: 1.3293 - acc: 0.3982Epoch 1/3\n",
            "32/32 [==============================] - 6s 199ms/step - loss: 1.2597 - acc: 0.3789\n",
            "\n",
            "Epoch 00002: val_acc did not improve from 0.38477\n",
            "32/32 [==============================] - 10s 322ms/step - loss: 1.3189 - acc: 0.4004 - val_loss: 1.2597 - val_acc: 0.3789\n",
            "Epoch 3/3\n",
            "31/32 [============================>.] - ETA: 0s - loss: 1.2944 - acc: 0.3871Epoch 1/3\n",
            "32/32 [==============================] - 5s 160ms/step - loss: 1.2292 - acc: 0.3760\n",
            "\n",
            "Epoch 00003: val_acc did not improve from 0.38477\n",
            "32/32 [==============================] - 9s 284ms/step - loss: 1.2934 - acc: 0.3867 - val_loss: 1.2292 - val_acc: 0.3760\n"
          ],
          "name": "stdout"
        }
      ]
    },
    {
      "cell_type": "code",
      "metadata": {
        "id": "t3ePHBOjHoSX",
        "colab_type": "code",
        "colab": {}
      },
      "source": [
        "loss_history = hist.history['val_loss']\n",
        "acc_history = hist.history['val_acc']"
      ],
      "execution_count": 0,
      "outputs": []
    },
    {
      "cell_type": "markdown",
      "metadata": {
        "id": "k7c6D2cfVAIE",
        "colab_type": "text"
      },
      "source": [
        "# Second Stage of training with learning rate of 0.0001"
      ]
    },
    {
      "cell_type": "code",
      "metadata": {
        "id": "EYlDAPRMHDhj",
        "colab_type": "code",
        "colab": {
          "base_uri": "https://localhost:8080/",
          "height": 905
        },
        "outputId": "9502bb0f-760c-4081-f694-21f7dd6c94b1"
      },
      "source": [
        "Adam1 = tf.keras.optimizers.Adam(learning_rate = 0.0001)\n",
        "for layer in org_model.layers[top_layer_nb:]:\n",
        "  layer.trainable = True\n",
        "model.compile(loss='categorical_crossentropy',\n",
        "              optimizer=Adam1,\n",
        "              metrics=['accuracy'],\n",
        "              )\n",
        "model.summary()"
      ],
      "execution_count": 221,
      "outputs": [
        {
          "output_type": "stream",
          "text": [
            "Model: \"model_20\"\n",
            "_________________________________________________________________\n",
            "Layer (type)                 Output Shape              Param #   \n",
            "=================================================================\n",
            "input_21 (InputLayer)        [(None, 227, 227, 3)]     0         \n",
            "_________________________________________________________________\n",
            "block1_conv1 (Conv2D)        (None, 227, 227, 64)      1792      \n",
            "_________________________________________________________________\n",
            "block1_conv2 (Conv2D)        (None, 227, 227, 64)      36928     \n",
            "_________________________________________________________________\n",
            "block1_pool (MaxPooling2D)   (None, 113, 113, 64)      0         \n",
            "_________________________________________________________________\n",
            "block2_conv1 (Conv2D)        (None, 113, 113, 128)     73856     \n",
            "_________________________________________________________________\n",
            "block2_conv2 (Conv2D)        (None, 113, 113, 128)     147584    \n",
            "_________________________________________________________________\n",
            "block2_pool (MaxPooling2D)   (None, 56, 56, 128)       0         \n",
            "_________________________________________________________________\n",
            "block3_conv1 (Conv2D)        (None, 56, 56, 256)       295168    \n",
            "_________________________________________________________________\n",
            "block3_conv2 (Conv2D)        (None, 56, 56, 256)       590080    \n",
            "_________________________________________________________________\n",
            "block3_conv3 (Conv2D)        (None, 56, 56, 256)       590080    \n",
            "_________________________________________________________________\n",
            "block3_pool (MaxPooling2D)   (None, 28, 28, 256)       0         \n",
            "_________________________________________________________________\n",
            "block4_conv1 (Conv2D)        (None, 28, 28, 512)       1180160   \n",
            "_________________________________________________________________\n",
            "block4_conv2 (Conv2D)        (None, 28, 28, 512)       2359808   \n",
            "_________________________________________________________________\n",
            "block4_conv3 (Conv2D)        (None, 28, 28, 512)       2359808   \n",
            "_________________________________________________________________\n",
            "block4_pool (MaxPooling2D)   (None, 14, 14, 512)       0         \n",
            "_________________________________________________________________\n",
            "block5_conv1 (Conv2D)        (None, 14, 14, 512)       2359808   \n",
            "_________________________________________________________________\n",
            "block5_conv2 (Conv2D)        (None, 14, 14, 512)       2359808   \n",
            "_________________________________________________________________\n",
            "block5_conv3 (Conv2D)        (None, 14, 14, 512)       2359808   \n",
            "_________________________________________________________________\n",
            "block5_pool (MaxPooling2D)   (None, 7, 7, 512)         0         \n",
            "_________________________________________________________________\n",
            "global_average_pooling2d_20  (None, 512)               0         \n",
            "_________________________________________________________________\n",
            "dense_20 (Dense)             (None, 3)                 1539      \n",
            "=================================================================\n",
            "Total params: 14,716,227\n",
            "Trainable params: 7,080,963\n",
            "Non-trainable params: 7,635,264\n",
            "_________________________________________________________________\n"
          ],
          "name": "stdout"
        }
      ]
    },
    {
      "cell_type": "code",
      "metadata": {
        "id": "aj10FPmzSRcm",
        "colab_type": "code",
        "colab": {}
      },
      "source": [
        "from keras.callbacks import EarlyStopping, ModelCheckpoint\n",
        "# Model saving callback\n",
        "\n",
        "checkpointer1 = ModelCheckpoint(filepath='2ndPatch_CNN.h5', monitor='val_acc', verbose=1, save_best_only=True)\n",
        "\n",
        "# Early stopping\n",
        "early_stopping1 = EarlyStopping(monitor='val_acc', verbose=1, patience=5)"
      ],
      "execution_count": 0,
      "outputs": []
    },
    {
      "cell_type": "code",
      "metadata": {
        "id": "Mjo4cw2oJIUU",
        "colab_type": "code",
        "colab": {
          "base_uri": "https://localhost:8080/",
          "height": 1000
        },
        "outputId": "271d0792-6c69-4a5e-c9cc-6d2b3f829dd2"
      },
      "source": [
        "hist = model.fit_generator(\n",
        "        train_generator,\n",
        "        steps_per_epoch=32,\n",
        "        epochs=len(loss_history)+10,\n",
        "        validation_data = validation_generator,\n",
        "        validation_steps = 32,\n",
        "        callbacks=[checkpointer1, early_stopping1],\n",
        "        verbose=1,\n",
        "        initial_epoch = len(loss_history),\n",
        "        class_weight = mod)"
      ],
      "execution_count": 223,
      "outputs": [
        {
          "output_type": "stream",
          "text": [
            "Epoch 4/13\n",
            "31/32 [============================>.] - ETA: 0s - loss: 1.1657 - acc: 0.4224Epoch 1/13\n",
            "32/32 [==============================] - 5s 159ms/step - loss: 1.0941 - acc: 0.4102\n",
            "\n",
            "Epoch 00004: val_acc improved from -inf to 0.41016, saving model to 2ndPatch_CNN.h5\n",
            "32/32 [==============================] - 12s 369ms/step - loss: 1.1646 - acc: 0.4189 - val_loss: 1.0941 - val_acc: 0.4102\n",
            "Epoch 5/13\n",
            "31/32 [============================>.] - ETA: 0s - loss: 1.1124 - acc: 0.3942Epoch 1/13\n",
            "32/32 [==============================] - 5s 150ms/step - loss: 1.1091 - acc: 0.4268\n",
            "\n",
            "Epoch 00005: val_acc improved from 0.41016 to 0.42676, saving model to 2ndPatch_CNN.h5\n",
            "32/32 [==============================] - 8s 254ms/step - loss: 1.1107 - acc: 0.3965 - val_loss: 1.1091 - val_acc: 0.4268\n",
            "Epoch 6/13\n",
            "31/32 [============================>.] - ETA: 0s - loss: 1.0606 - acc: 0.4506Epoch 1/13\n",
            "32/32 [==============================] - 5s 168ms/step - loss: 1.1565 - acc: 0.4365\n",
            "\n",
            "Epoch 00006: val_acc improved from 0.42676 to 0.43652, saving model to 2ndPatch_CNN.h5\n",
            "32/32 [==============================] - 9s 277ms/step - loss: 1.0664 - acc: 0.4482 - val_loss: 1.1565 - val_acc: 0.4365\n",
            "Epoch 7/13\n",
            "31/32 [============================>.] - ETA: 0s - loss: 1.0609 - acc: 0.4083Epoch 1/13\n",
            "32/32 [==============================] - 5s 148ms/step - loss: 1.3513 - acc: 0.4766\n",
            "\n",
            "Epoch 00007: val_acc improved from 0.43652 to 0.47656, saving model to 2ndPatch_CNN.h5\n",
            "32/32 [==============================] - 8s 252ms/step - loss: 1.0656 - acc: 0.4043 - val_loss: 1.3513 - val_acc: 0.4766\n",
            "Epoch 8/13\n",
            "31/32 [============================>.] - ETA: 0s - loss: 1.0762 - acc: 0.4345Epoch 1/13\n",
            "32/32 [==============================] - 5s 148ms/step - loss: 1.0965 - acc: 0.4893\n",
            "\n",
            "Epoch 00008: val_acc improved from 0.47656 to 0.48926, saving model to 2ndPatch_CNN.h5\n",
            "32/32 [==============================] - 8s 253ms/step - loss: 1.0728 - acc: 0.4385 - val_loss: 1.0965 - val_acc: 0.4893\n",
            "Epoch 9/13\n",
            "31/32 [============================>.] - ETA: 0s - loss: 1.0737 - acc: 0.4375Epoch 1/13\n",
            "32/32 [==============================] - 5s 148ms/step - loss: 1.2018 - acc: 0.5117\n",
            "\n",
            "Epoch 00009: val_acc improved from 0.48926 to 0.51172, saving model to 2ndPatch_CNN.h5\n",
            "32/32 [==============================] - 8s 254ms/step - loss: 1.0752 - acc: 0.4326 - val_loss: 1.2018 - val_acc: 0.5117\n",
            "Epoch 10/13\n",
            "31/32 [============================>.] - ETA: 0s - loss: 1.0527 - acc: 0.4244Epoch 1/13\n",
            "32/32 [==============================] - 5s 153ms/step - loss: 1.8742 - acc: 0.4648\n",
            "\n",
            "Epoch 00010: val_acc did not improve from 0.51172\n",
            "32/32 [==============================] - 8s 250ms/step - loss: 1.0539 - acc: 0.4238 - val_loss: 1.8742 - val_acc: 0.4648\n",
            "Epoch 11/13\n",
            "31/32 [============================>.] - ETA: 0s - loss: 1.0642 - acc: 0.4395Epoch 1/13\n",
            "32/32 [==============================] - 5s 164ms/step - loss: 1.6217 - acc: 0.4893\n",
            "\n",
            "Epoch 00011: val_acc did not improve from 0.51172\n",
            "32/32 [==============================] - 8s 262ms/step - loss: 1.0608 - acc: 0.4434 - val_loss: 1.6217 - val_acc: 0.4893\n",
            "Epoch 12/13\n",
            "31/32 [============================>.] - ETA: 0s - loss: 1.0445 - acc: 0.4526Epoch 1/13\n",
            "32/32 [==============================] - 5s 147ms/step - loss: 1.6799 - acc: 0.4111\n",
            "\n",
            "Epoch 00012: val_acc did not improve from 0.51172\n",
            "32/32 [==============================] - 8s 243ms/step - loss: 1.0461 - acc: 0.4521 - val_loss: 1.6799 - val_acc: 0.4111\n",
            "Epoch 13/13\n",
            "31/32 [============================>.] - ETA: 0s - loss: 1.0274 - acc: 0.4365Epoch 1/13\n",
            "32/32 [==============================] - 5s 144ms/step - loss: 1.1972 - acc: 0.4990\n",
            "\n",
            "Epoch 00013: val_acc did not improve from 0.51172\n",
            "32/32 [==============================] - 8s 240ms/step - loss: 1.0288 - acc: 0.4355 - val_loss: 1.1972 - val_acc: 0.4990\n"
          ],
          "name": "stdout"
        }
      ]
    },
    {
      "cell_type": "code",
      "metadata": {
        "id": "-uzNN9QEJjOY",
        "colab_type": "code",
        "colab": {}
      },
      "source": [
        "import numpy as np\n",
        "loss_history = np.append(loss_history, hist.history['val_loss'])\n",
        "acc_history = np.append(acc_history, hist.history['val_acc'])"
      ],
      "execution_count": 0,
      "outputs": []
    },
    {
      "cell_type": "code",
      "metadata": {
        "id": "olyBrfPlS35H",
        "colab_type": "code",
        "colab": {}
      },
      "source": [
        "for layers in org_model.layers[:top_layer_nb]:\n",
        "  layer.trainable = True"
      ],
      "execution_count": 0,
      "outputs": []
    },
    {
      "cell_type": "code",
      "metadata": {
        "id": "QJP6UgySTcSx",
        "colab_type": "code",
        "colab": {
          "base_uri": "https://localhost:8080/",
          "height": 905
        },
        "outputId": "9af90e86-94f1-41c6-e816-caec6b406af3"
      },
      "source": [
        "Adam2 = tf.keras.optimizers.Adam(learning_rate = 0.00001)\n",
        "model.compile(loss='categorical_crossentropy',\n",
        "              optimizer=Adam2,\n",
        "              metrics=['accuracy'],\n",
        "              )\n",
        "model.summary()"
      ],
      "execution_count": 232,
      "outputs": [
        {
          "output_type": "stream",
          "text": [
            "Model: \"model_20\"\n",
            "_________________________________________________________________\n",
            "Layer (type)                 Output Shape              Param #   \n",
            "=================================================================\n",
            "input_21 (InputLayer)        [(None, 227, 227, 3)]     0         \n",
            "_________________________________________________________________\n",
            "block1_conv1 (Conv2D)        (None, 227, 227, 64)      1792      \n",
            "_________________________________________________________________\n",
            "block1_conv2 (Conv2D)        (None, 227, 227, 64)      36928     \n",
            "_________________________________________________________________\n",
            "block1_pool (MaxPooling2D)   (None, 113, 113, 64)      0         \n",
            "_________________________________________________________________\n",
            "block2_conv1 (Conv2D)        (None, 113, 113, 128)     73856     \n",
            "_________________________________________________________________\n",
            "block2_conv2 (Conv2D)        (None, 113, 113, 128)     147584    \n",
            "_________________________________________________________________\n",
            "block2_pool (MaxPooling2D)   (None, 56, 56, 128)       0         \n",
            "_________________________________________________________________\n",
            "block3_conv1 (Conv2D)        (None, 56, 56, 256)       295168    \n",
            "_________________________________________________________________\n",
            "block3_conv2 (Conv2D)        (None, 56, 56, 256)       590080    \n",
            "_________________________________________________________________\n",
            "block3_conv3 (Conv2D)        (None, 56, 56, 256)       590080    \n",
            "_________________________________________________________________\n",
            "block3_pool (MaxPooling2D)   (None, 28, 28, 256)       0         \n",
            "_________________________________________________________________\n",
            "block4_conv1 (Conv2D)        (None, 28, 28, 512)       1180160   \n",
            "_________________________________________________________________\n",
            "block4_conv2 (Conv2D)        (None, 28, 28, 512)       2359808   \n",
            "_________________________________________________________________\n",
            "block4_conv3 (Conv2D)        (None, 28, 28, 512)       2359808   \n",
            "_________________________________________________________________\n",
            "block4_pool (MaxPooling2D)   (None, 14, 14, 512)       0         \n",
            "_________________________________________________________________\n",
            "block5_conv1 (Conv2D)        (None, 14, 14, 512)       2359808   \n",
            "_________________________________________________________________\n",
            "block5_conv2 (Conv2D)        (None, 14, 14, 512)       2359808   \n",
            "_________________________________________________________________\n",
            "block5_conv3 (Conv2D)        (None, 14, 14, 512)       2359808   \n",
            "_________________________________________________________________\n",
            "block5_pool (MaxPooling2D)   (None, 7, 7, 512)         0         \n",
            "_________________________________________________________________\n",
            "global_average_pooling2d_20  (None, 512)               0         \n",
            "_________________________________________________________________\n",
            "dense_20 (Dense)             (None, 3)                 1539      \n",
            "=================================================================\n",
            "Total params: 14,716,227\n",
            "Trainable params: 7,080,963\n",
            "Non-trainable params: 7,635,264\n",
            "_________________________________________________________________\n"
          ],
          "name": "stdout"
        }
      ]
    },
    {
      "cell_type": "code",
      "metadata": {
        "id": "fC5SLRtQTisA",
        "colab_type": "code",
        "colab": {}
      },
      "source": [
        "mod = tf.keras.models.load_model(\"/content/Patch_CNN.h5\")\n",
        "from keras.callbacks import EarlyStopping, ModelCheckpoint\n",
        "# Model saving callback\n",
        "\n",
        "checkpointer1 = ModelCheckpoint(filepath='3rdPatch_CNN.h5', monitor='val_acc', verbose=1, save_best_only=True)\n",
        "\n",
        "# Early stopping\n",
        "early_stopping1 = EarlyStopping(monitor='val_acc', verbose=1, patience=5)"
      ],
      "execution_count": 0,
      "outputs": []
    },
    {
      "cell_type": "code",
      "metadata": {
        "id": "n6nYOQkrT3Wz",
        "colab_type": "code",
        "colab": {
          "base_uri": "https://localhost:8080/",
          "height": 994
        },
        "outputId": "fa01eaca-6cc7-427c-f55f-9cd91e74590b"
      },
      "source": [
        "hist = model.fit_generator(\n",
        "        train_generator,\n",
        "        steps_per_epoch=32,\n",
        "        epochs=len(loss_history)+37,\n",
        "        validation_data = validation_generator,\n",
        "        validation_steps = 32,\n",
        "        callbacks=[checkpointer1, early_stopping1],\n",
        "        verbose=1,\n",
        "        initial_epoch = len(loss_history),\n",
        "        class_weight = class_weight)"
      ],
      "execution_count": 208,
      "outputs": [
        {
          "output_type": "stream",
          "text": [
            "Epoch 14/50\n",
            "31/32 [============================>.] - ETA: 0s - loss: 1.0173 - acc: 0.4748Epoch 1/50\n",
            "32/32 [==============================] - 5s 157ms/step - loss: 2.0147 - acc: 0.5176\n",
            "\n",
            "Epoch 00014: val_acc improved from -inf to 0.51758, saving model to 3rdPatch_CNN.h5\n",
            "32/32 [==============================] - 12s 365ms/step - loss: 1.0167 - acc: 0.4697 - val_loss: 2.0147 - val_acc: 0.5176\n",
            "Epoch 15/50\n",
            "31/32 [============================>.] - ETA: 0s - loss: 0.9975 - acc: 0.4980Epoch 1/50\n",
            "32/32 [==============================] - 5s 149ms/step - loss: 2.3738 - acc: 0.5225\n",
            "\n",
            "Epoch 00015: val_acc improved from 0.51758 to 0.52246, saving model to 3rdPatch_CNN.h5\n",
            "32/32 [==============================] - 8s 253ms/step - loss: 0.9951 - acc: 0.5029 - val_loss: 2.3738 - val_acc: 0.5225\n",
            "Epoch 16/50\n",
            "31/32 [============================>.] - ETA: 0s - loss: 1.0212 - acc: 0.4708Epoch 1/50\n",
            "32/32 [==============================] - 5s 149ms/step - loss: 2.5427 - acc: 0.5186\n",
            "\n",
            "Epoch 00016: val_acc did not improve from 0.52246\n",
            "32/32 [==============================] - 8s 245ms/step - loss: 1.0206 - acc: 0.4736 - val_loss: 2.5427 - val_acc: 0.5186\n",
            "Epoch 17/50\n",
            "31/32 [============================>.] - ETA: 0s - loss: 1.0135 - acc: 0.4879Epoch 1/50\n",
            "32/32 [==============================] - 5s 148ms/step - loss: 2.5628 - acc: 0.5303\n",
            "\n",
            "Epoch 00017: val_acc improved from 0.52246 to 0.53027, saving model to 3rdPatch_CNN.h5\n",
            "32/32 [==============================] - 8s 253ms/step - loss: 1.0112 - acc: 0.4922 - val_loss: 2.5628 - val_acc: 0.5303\n",
            "Epoch 18/50\n",
            "31/32 [============================>.] - ETA: 0s - loss: 0.9961 - acc: 0.4849Epoch 1/50\n",
            "32/32 [==============================] - 5s 149ms/step - loss: 2.2969 - acc: 0.5244\n",
            "\n",
            "Epoch 00018: val_acc did not improve from 0.53027\n",
            "32/32 [==============================] - 8s 246ms/step - loss: 0.9904 - acc: 0.4873 - val_loss: 2.2969 - val_acc: 0.5244\n",
            "Epoch 19/50\n",
            "31/32 [============================>.] - ETA: 0s - loss: 1.0205 - acc: 0.4657Epoch 1/50\n",
            "32/32 [==============================] - 5s 155ms/step - loss: 2.2100 - acc: 0.5098\n",
            "\n",
            "Epoch 00019: val_acc did not improve from 0.53027\n",
            "32/32 [==============================] - 8s 255ms/step - loss: 1.0199 - acc: 0.4688 - val_loss: 2.2100 - val_acc: 0.5098\n",
            "Epoch 20/50\n",
            "31/32 [============================>.] - ETA: 0s - loss: 1.0082 - acc: 0.4808Epoch 1/50\n",
            "32/32 [==============================] - 5s 147ms/step - loss: 2.1573 - acc: 0.5244\n",
            "\n",
            "Epoch 00020: val_acc did not improve from 0.53027\n",
            "32/32 [==============================] - 8s 254ms/step - loss: 1.0053 - acc: 0.4873 - val_loss: 2.1573 - val_acc: 0.5244\n",
            "Epoch 21/50\n",
            "31/32 [============================>.] - ETA: 0s - loss: 1.0291 - acc: 0.4667Epoch 1/50\n",
            "32/32 [==============================] - 5s 169ms/step - loss: 2.2989 - acc: 0.5039\n",
            "\n",
            "Epoch 00021: val_acc did not improve from 0.53027\n",
            "32/32 [==============================] - 9s 268ms/step - loss: 1.0297 - acc: 0.4697 - val_loss: 2.2989 - val_acc: 0.5039\n",
            "Epoch 22/50\n",
            "31/32 [============================>.] - ETA: 0s - loss: 1.0043 - acc: 0.4788Epoch 1/50\n",
            "32/32 [==============================] - 5s 146ms/step - loss: 2.1576 - acc: 0.5127\n",
            "\n",
            "Epoch 00022: val_acc did not improve from 0.53027\n",
            "32/32 [==============================] - 8s 242ms/step - loss: 1.0040 - acc: 0.4814 - val_loss: 2.1576 - val_acc: 0.5127\n",
            "Epoch 00022: early stopping\n"
          ],
          "name": "stdout"
        }
      ]
    },
    {
      "cell_type": "code",
      "metadata": {
        "id": "npu2xvfTT8nO",
        "colab_type": "code",
        "colab": {}
      },
      "source": [
        ""
      ],
      "execution_count": 0,
      "outputs": []
    }
  ]
}