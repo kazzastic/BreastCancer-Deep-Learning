{
  "nbformat": 4,
  "nbformat_minor": 0,
  "metadata": {
    "accelerator": "GPU",
    "colab": {
      "name": "Patches train.ipynb",
      "provenance": [],
      "collapsed_sections": [],
      "include_colab_link": true
    },
    "kernelspec": {
      "display_name": "Python 3",
      "language": "python",
      "name": "python3"
    },
    "language_info": {
      "codemirror_mode": {
        "name": "ipython",
        "version": 3
      },
      "file_extension": ".py",
      "mimetype": "text/x-python",
      "name": "python",
      "nbconvert_exporter": "python",
      "pygments_lexer": "ipython3",
      "version": "3.6.9"
    }
  },
  "cells": [
    {
      "cell_type": "markdown",
      "metadata": {
        "id": "view-in-github",
        "colab_type": "text"
      },
      "source": [
        "<a href=\"https://colab.research.google.com/github/kazzastic/BreastCancer-Deep-Learning/blob/master/Patches_train.ipynb\" target=\"_parent\"><img src=\"https://colab.research.google.com/assets/colab-badge.svg\" alt=\"Open In Colab\"/></a>"
      ]
    },
    {
      "cell_type": "code",
      "metadata": {
        "id": "W_61Z46kMVbW",
        "colab_type": "code",
        "outputId": "af58a18f-5696-4c82-849b-a90e145b3bba",
        "colab": {
          "base_uri": "https://localhost:8080/",
          "height": 34
        }
      },
      "source": [
        "from google.colab import drive\n",
        "drive.mount('/content/drive')"
      ],
      "execution_count": 49,
      "outputs": [
        {
          "output_type": "stream",
          "text": [
            "Drive already mounted at /content/drive; to attempt to forcibly remount, call drive.mount(\"/content/drive\", force_remount=True).\n"
          ],
          "name": "stdout"
        }
      ]
    },
    {
      "cell_type": "code",
      "metadata": {
        "id": "3dYlDANMMWph",
        "colab_type": "code",
        "colab": {}
      },
      "source": [
        "import tensorflow as tf\n",
        "from tensorflow.keras.applications.vgg16 import VGG16\n",
        "from tensorflow.keras.layers import GlobalAveragePooling2D, Dropout, Dense\n",
        "from tensorflow.keras.models import Model\n",
        "from keras.preprocessing.image import ImageDataGenerator\n",
        "from tensorflow.keras.layers import Dense, Dropout, Activation, Flatten\n",
        "from tensorflow.keras.layers import Conv2D, MaxPooling2D\n",
        "from tensorflow.keras.models import Sequential\n",
        "from tensorflow.keras.callbacks import ReduceLROnPlateau\n",
        "from tensorflow.keras.regularizers import l2"
      ],
      "execution_count": 0,
      "outputs": []
    },
    {
      "cell_type": "code",
      "metadata": {
        "id": "eKtG5QVRMp3G",
        "colab_type": "code",
        "colab": {}
      },
      "source": [
        "base_model = VGG16(weights='imagenet', include_top=False, input_shape = (227,227,3), pooling = 'avg')\n",
        "x = base_model.output\n",
        "preds = Dense(3, activation='softmax', kernel_regularizer=l2(0.01))(x)\n",
        "model = Model(inputs=base_model.input, outputs=preds)\n",
        "top_layer_nb = 15"
      ],
      "execution_count": 0,
      "outputs": []
    },
    {
      "cell_type": "code",
      "metadata": {
        "id": "uyjGW3m5Culk",
        "colab_type": "code",
        "colab": {}
      },
      "source": [
        "org_model = model"
      ],
      "execution_count": 0,
      "outputs": []
    },
    {
      "cell_type": "code",
      "metadata": {
        "id": "5-RrDTg1MuUr",
        "colab_type": "code",
        "colab": {}
      },
      "source": [
        "from keras.callbacks import EarlyStopping, ModelCheckpoint\n",
        "# Model saving callback\n",
        "\n",
        "checkpointer = ModelCheckpoint(filepath='Patch_CNN.h5', monitor='val_acc', verbose=1, save_best_only=True)\n",
        "\n",
        "# Early stopping\n",
        "early_stopping = EarlyStopping(monitor='val_acc', verbose=1, patience=5)\n",
        "\n",
        "#ReduceLROnPlateau\n",
        "reduce_lr = ReduceLROnPlateau(monitor = 'val_loss', factor = 0.5, partience = 2, verbose = 1)"
      ],
      "execution_count": 0,
      "outputs": []
    },
    {
      "cell_type": "markdown",
      "metadata": {
        "id": "-zmXdRVnENkj",
        "colab_type": "text"
      },
      "source": [
        "# First Stage Of training with learning rate 0.001"
      ]
    },
    {
      "cell_type": "code",
      "metadata": {
        "id": "wD1trlerrg70",
        "colab_type": "code",
        "colab": {}
      },
      "source": [
        "pos_cls_weight, neg_cls_weight = 1., 1.\n",
        "for layer in org_model.layers[:-1]:\n",
        "  layer.trainable = False\n",
        "class_weight = { 0:1.0, 1:pos_cls_weight, 2:neg_cls_weight }\n",
        "nb_worker = 1\n",
        "if nb_worker == 1:\n",
        "  pickle_safe = False\n",
        "else:\n",
        "  pickle_safe = True\n"
      ],
      "execution_count": 0,
      "outputs": []
    },
    {
      "cell_type": "code",
      "metadata": {
        "id": "4-uaSeJPIX2y",
        "colab_type": "code",
        "colab": {}
      },
      "source": [
        "train_data_dir = \"/content/drive/My Drive/patches_sort\""
      ],
      "execution_count": 0,
      "outputs": []
    },
    {
      "cell_type": "code",
      "metadata": {
        "id": "B4g5XUGV4Z_3",
        "colab_type": "code",
        "outputId": "c5c8db07-1137-4ee8-d54d-5d191e7cd98e",
        "colab": {
          "base_uri": "https://localhost:8080/",
          "height": 52
        }
      },
      "source": [
        "datagen = ImageDataGenerator(validation_split=0.3)\n",
        "batch_size = 32\n",
        "img_width , img_height = 227, 227\n",
        "\n",
        "# Retrieve images and their classes for train and validation sets\n",
        "train_generator = datagen.flow_from_directory(\n",
        "        train_data_dir,\n",
        "        target_size=(img_width, img_height),\n",
        "        shuffle = True,\n",
        "        batch_size=batch_size,\n",
        "        #class_mode='binary',\n",
        "        subset = 'training')\n",
        "\n",
        "validation_generator = datagen.flow_from_directory(\n",
        "        train_data_dir,\n",
        "        target_size=(img_width, img_height),\n",
        "        shuffle = True,\n",
        "        batch_size=batch_size,\n",
        "        #class_mode='binary',\n",
        "        subset = 'validation')"
      ],
      "execution_count": 56,
      "outputs": [
        {
          "output_type": "stream",
          "text": [
            "Found 40530 images belonging to 3 classes.\n",
            "Found 17367 images belonging to 3 classes.\n"
          ],
          "name": "stdout"
        }
      ]
    },
    {
      "cell_type": "code",
      "metadata": {
        "id": "EUf5la0MC-G1",
        "colab_type": "code",
        "outputId": "95e0cf8f-520e-4b53-ca7a-bd36e2e16e5b",
        "colab": {
          "base_uri": "https://localhost:8080/",
          "height": 905
        }
      },
      "source": [
        "model.compile(loss='categorical_crossentropy',\n",
        "              optimizer='adam',\n",
        "              metrics=['accuracy'],\n",
        "              )\n",
        "model.summary()"
      ],
      "execution_count": 57,
      "outputs": [
        {
          "output_type": "stream",
          "text": [
            "Model: \"model_6\"\n",
            "_________________________________________________________________\n",
            "Layer (type)                 Output Shape              Param #   \n",
            "=================================================================\n",
            "input_7 (InputLayer)         [(None, 227, 227, 3)]     0         \n",
            "_________________________________________________________________\n",
            "block1_conv1 (Conv2D)        (None, 227, 227, 64)      1792      \n",
            "_________________________________________________________________\n",
            "block1_conv2 (Conv2D)        (None, 227, 227, 64)      36928     \n",
            "_________________________________________________________________\n",
            "block1_pool (MaxPooling2D)   (None, 113, 113, 64)      0         \n",
            "_________________________________________________________________\n",
            "block2_conv1 (Conv2D)        (None, 113, 113, 128)     73856     \n",
            "_________________________________________________________________\n",
            "block2_conv2 (Conv2D)        (None, 113, 113, 128)     147584    \n",
            "_________________________________________________________________\n",
            "block2_pool (MaxPooling2D)   (None, 56, 56, 128)       0         \n",
            "_________________________________________________________________\n",
            "block3_conv1 (Conv2D)        (None, 56, 56, 256)       295168    \n",
            "_________________________________________________________________\n",
            "block3_conv2 (Conv2D)        (None, 56, 56, 256)       590080    \n",
            "_________________________________________________________________\n",
            "block3_conv3 (Conv2D)        (None, 56, 56, 256)       590080    \n",
            "_________________________________________________________________\n",
            "block3_pool (MaxPooling2D)   (None, 28, 28, 256)       0         \n",
            "_________________________________________________________________\n",
            "block4_conv1 (Conv2D)        (None, 28, 28, 512)       1180160   \n",
            "_________________________________________________________________\n",
            "block4_conv2 (Conv2D)        (None, 28, 28, 512)       2359808   \n",
            "_________________________________________________________________\n",
            "block4_conv3 (Conv2D)        (None, 28, 28, 512)       2359808   \n",
            "_________________________________________________________________\n",
            "block4_pool (MaxPooling2D)   (None, 14, 14, 512)       0         \n",
            "_________________________________________________________________\n",
            "block5_conv1 (Conv2D)        (None, 14, 14, 512)       2359808   \n",
            "_________________________________________________________________\n",
            "block5_conv2 (Conv2D)        (None, 14, 14, 512)       2359808   \n",
            "_________________________________________________________________\n",
            "block5_conv3 (Conv2D)        (None, 14, 14, 512)       2359808   \n",
            "_________________________________________________________________\n",
            "block5_pool (MaxPooling2D)   (None, 7, 7, 512)         0         \n",
            "_________________________________________________________________\n",
            "global_average_pooling2d_6 ( (None, 512)               0         \n",
            "_________________________________________________________________\n",
            "dense_6 (Dense)              (None, 3)                 1539      \n",
            "=================================================================\n",
            "Total params: 14,716,227\n",
            "Trainable params: 1,539\n",
            "Non-trainable params: 14,714,688\n",
            "_________________________________________________________________\n"
          ],
          "name": "stdout"
        }
      ]
    },
    {
      "cell_type": "markdown",
      "metadata": {
        "id": "Pm0Rh2cIE1Wo",
        "colab_type": "text"
      },
      "source": [
        "Run the cell below for about 3 to 4 epoch"
      ]
    },
    {
      "cell_type": "code",
      "metadata": {
        "id": "JkPvEss7DN1N",
        "colab_type": "code",
        "outputId": "f30705df-bf39-4af7-e1b4-377ac7ea2e5b",
        "colab": {
          "base_uri": "https://localhost:8080/",
          "height": 1000
        }
      },
      "source": [
        "hist = model.fit_generator(\n",
        "        train_generator,\n",
        "        steps_per_epoch=32,\n",
        "        epochs=100,\n",
        "        validation_data = validation_generator,\n",
        "        validation_steps = 32,\n",
        "        callbacks=[checkpointer, early_stopping],\n",
        "        verbose=1)\n",
        "        #class_weight = class_weight)"
      ],
      "execution_count": 0,
      "outputs": [
        {
          "output_type": "stream",
          "text": [
            "Epoch 1/100\n",
            "31/32 [============================>.] - ETA: 5s - loss: 1.6412 - acc: 0.3679 Epoch 1/100\n",
            "32/32 [==============================] - 229s 7s/step - loss: 1.4545 - acc: 0.3633\n",
            "\n",
            "Epoch 00001: val_acc improved from -inf to 0.36328, saving model to Patch_CNN.h5\n",
            "32/32 [==============================] - 428s 13s/step - loss: 1.6418 - acc: 0.3652 - val_loss: 1.4545 - val_acc: 0.3633\n",
            "Epoch 2/100\n",
            "31/32 [============================>.] - ETA: 4s - loss: 1.3978 - acc: 0.3599Epoch 1/100\n",
            "32/32 [==============================] - 4s 127ms/step - loss: 1.2980 - acc: 0.3955\n",
            "\n",
            "Epoch 00002: val_acc improved from 0.36328 to 0.39551, saving model to Patch_CNN.h5\n",
            "32/32 [==============================] - 136s 4s/step - loss: 1.3935 - acc: 0.3604 - val_loss: 1.2980 - val_acc: 0.3955\n",
            "Epoch 3/100\n",
            "31/32 [============================>.] - ETA: 5s - loss: 1.2954 - acc: 0.3569 Epoch 1/100\n",
            "32/32 [==============================] - 4s 130ms/step - loss: 1.2162 - acc: 0.4209\n",
            "\n",
            "Epoch 00003: val_acc improved from 0.39551 to 0.42090, saving model to Patch_CNN.h5\n",
            "32/32 [==============================] - 194s 6s/step - loss: 1.2883 - acc: 0.3613 - val_loss: 1.2162 - val_acc: 0.4209\n",
            "Epoch 4/100\n",
            "31/32 [============================>.] - ETA: 5s - loss: 1.2225 - acc: 0.4052 Epoch 1/100\n",
            "32/32 [==============================] - 4s 128ms/step - loss: 1.1995 - acc: 0.4160\n",
            "\n",
            "Epoch 00004: val_acc did not improve from 0.42090\n",
            "32/32 [==============================] - 196s 6s/step - loss: 1.2257 - acc: 0.4033 - val_loss: 1.1995 - val_acc: 0.4160\n",
            "Epoch 5/100\n",
            "31/32 [============================>.] - ETA: 5s - loss: 1.2146 - acc: 0.4103 Epoch 1/100\n",
            "32/32 [==============================] - 4s 130ms/step - loss: 1.1645 - acc: 0.4326\n",
            "\n",
            "Epoch 00005: val_acc improved from 0.42090 to 0.43262, saving model to Patch_CNN.h5\n",
            "32/32 [==============================] - 189s 6s/step - loss: 1.2221 - acc: 0.4072 - val_loss: 1.1645 - val_acc: 0.4326\n",
            "Epoch 6/100\n",
            "31/32 [============================>.] - ETA: 5s - loss: 1.2282 - acc: 0.3649 Epoch 1/100\n",
            "32/32 [==============================] - 4s 130ms/step - loss: 1.1861 - acc: 0.4248\n",
            "\n",
            "Epoch 00006: val_acc did not improve from 0.43262\n",
            "32/32 [==============================] - 190s 6s/step - loss: 1.2316 - acc: 0.3643 - val_loss: 1.1861 - val_acc: 0.4248\n",
            "Epoch 7/100\n",
            "31/32 [============================>.] - ETA: 6s - loss: 1.1678 - acc: 0.4315 Epoch 1/100\n",
            "32/32 [==============================] - 4s 126ms/step - loss: 1.1345 - acc: 0.4512\n",
            "\n",
            "Epoch 00007: val_acc improved from 0.43262 to 0.45117, saving model to Patch_CNN.h5\n",
            "32/32 [==============================] - 199s 6s/step - loss: 1.1721 - acc: 0.4277 - val_loss: 1.1345 - val_acc: 0.4512\n",
            "Epoch 8/100\n",
            "31/32 [============================>.] - ETA: 6s - loss: 1.1292 - acc: 0.4113 Epoch 1/100\n",
            "32/32 [==============================] - 4s 126ms/step - loss: 1.1275 - acc: 0.4512\n",
            "\n",
            "Epoch 00008: val_acc did not improve from 0.45117\n",
            "32/32 [==============================] - 198s 6s/step - loss: 1.1273 - acc: 0.4141 - val_loss: 1.1275 - val_acc: 0.4512\n",
            "Epoch 9/100\n",
            "31/32 [============================>.] - ETA: 5s - loss: 1.1630 - acc: 0.4002 Epoch 1/100\n",
            "32/32 [==============================] - 4s 128ms/step - loss: 1.1045 - acc: 0.4561\n",
            "\n",
            "Epoch 00009: val_acc improved from 0.45117 to 0.45605, saving model to Patch_CNN.h5\n",
            "32/32 [==============================] - 194s 6s/step - loss: 1.1617 - acc: 0.4014 - val_loss: 1.1045 - val_acc: 0.4561\n",
            "Epoch 10/100\n",
            "31/32 [============================>.] - ETA: 5s - loss: 1.1563 - acc: 0.4042 Epoch 1/100\n",
            "32/32 [==============================] - 4s 126ms/step - loss: 1.1143 - acc: 0.4463\n",
            "\n",
            "Epoch 00010: val_acc did not improve from 0.45605\n",
            "32/32 [==============================] - 187s 6s/step - loss: 1.1548 - acc: 0.4004 - val_loss: 1.1143 - val_acc: 0.4463\n",
            "Epoch 11/100\n",
            "31/32 [============================>.] - ETA: 5s - loss: 1.1251 - acc: 0.4214 Epoch 1/100\n",
            "32/32 [==============================] - 4s 127ms/step - loss: 1.1005 - acc: 0.4502\n",
            "\n",
            "Epoch 00011: val_acc did not improve from 0.45605\n",
            "32/32 [==============================] - 196s 6s/step - loss: 1.1264 - acc: 0.4189 - val_loss: 1.1005 - val_acc: 0.4502\n",
            "Epoch 12/100\n",
            " 9/32 [=======>......................] - ETA: 2:16 - loss: 1.1116 - acc: 0.4271"
          ],
          "name": "stdout"
        }
      ]
    },
    {
      "cell_type": "code",
      "metadata": {
        "id": "t0peNa4gJwWi",
        "colab_type": "code",
        "colab": {}
      },
      "source": [
        ""
      ],
      "execution_count": 0,
      "outputs": []
    }
  ]
}