{
  "nbformat": 4,
  "nbformat_minor": 0,
  "metadata": {
    "accelerator": "GPU",
    "colab": {
      "name": "Patches train.ipynb",
      "provenance": [],
      "collapsed_sections": [],
      "include_colab_link": true
    },
    "kernelspec": {
      "name": "python3",
      "display_name": "Python 3"
    },
    "language_info": {
      "codemirror_mode": {
        "name": "ipython",
        "version": 3
      },
      "file_extension": ".py",
      "mimetype": "text/x-python",
      "name": "python",
      "nbconvert_exporter": "python",
      "pygments_lexer": "ipython3",
      "version": "3.6.9"
    }
  },
  "cells": [
    {
      "cell_type": "markdown",
      "metadata": {
        "id": "view-in-github",
        "colab_type": "text"
      },
      "source": [
        "<a href=\"https://colab.research.google.com/github/kazzastic/BreastCancer-Deep-Learning/blob/master/Patches_train.ipynb\" target=\"_parent\"><img src=\"https://colab.research.google.com/assets/colab-badge.svg\" alt=\"Open In Colab\"/></a>"
      ]
    },
    {
      "cell_type": "code",
      "metadata": {
        "id": "W_61Z46kMVbW",
        "colab_type": "code",
        "outputId": "69b3944b-c6f5-4699-fe3a-9542731e569a",
        "colab": {
          "base_uri": "https://localhost:8080/",
          "height": 125
        }
      },
      "source": [
        "from google.colab import drive\n",
        "drive.mount('/content/drive')"
      ],
      "execution_count": 2,
      "outputs": [
        {
          "output_type": "stream",
          "text": [
            "Go to this URL in a browser: https://accounts.google.com/o/oauth2/auth?client_id=947318989803-6bn6qk8qdgf4n4g3pfee6491hc0brc4i.apps.googleusercontent.com&redirect_uri=urn%3aietf%3awg%3aoauth%3a2.0%3aoob&response_type=code&scope=email%20https%3a%2f%2fwww.googleapis.com%2fauth%2fdocs.test%20https%3a%2f%2fwww.googleapis.com%2fauth%2fdrive%20https%3a%2f%2fwww.googleapis.com%2fauth%2fdrive.photos.readonly%20https%3a%2f%2fwww.googleapis.com%2fauth%2fpeopleapi.readonly\n",
            "\n",
            "Enter your authorization code:\n",
            "··········\n",
            "Mounted at /content/drive\n"
          ],
          "name": "stdout"
        }
      ]
    },
    {
      "cell_type": "code",
      "metadata": {
        "id": "3dYlDANMMWph",
        "colab_type": "code",
        "colab": {
          "base_uri": "https://localhost:8080/",
          "height": 81
        },
        "outputId": "f97d292c-0623-440f-9976-82ac2880e48b"
      },
      "source": [
        "import tensorflow as tf\n",
        "from tensorflow.keras.applications.vgg16 import VGG16\n",
        "from tensorflow.keras.layers import GlobalAveragePooling2D, Dropout, Dense\n",
        "from tensorflow.keras.models import Model\n",
        "from keras.preprocessing.image import ImageDataGenerator\n",
        "from tensorflow.keras.layers import Dense, Dropout, Activation, Flatten\n",
        "from tensorflow.keras.layers import Conv2D, MaxPooling2D\n",
        "from tensorflow.keras.models import Sequential\n",
        "from tensorflow.keras.callbacks import ReduceLROnPlateau\n",
        "from tensorflow.keras.regularizers import l2\n",
        "from tensorflow.keras.optimizers import Adam, SGD"
      ],
      "execution_count": 1,
      "outputs": [
        {
          "output_type": "display_data",
          "data": {
            "text/html": [
              "<p style=\"color: red;\">\n",
              "The default version of TensorFlow in Colab will soon switch to TensorFlow 2.x.<br>\n",
              "We recommend you <a href=\"https://www.tensorflow.org/guide/migrate\" target=\"_blank\">upgrade</a> now \n",
              "or ensure your notebook will continue to use TensorFlow 1.x via the <code>%tensorflow_version 1.x</code> magic:\n",
              "<a href=\"https://colab.research.google.com/notebooks/tensorflow_version.ipynb\" target=\"_blank\">more info</a>.</p>\n"
            ],
            "text/plain": [
              "<IPython.core.display.HTML object>"
            ]
          },
          "metadata": {
            "tags": []
          }
        },
        {
          "output_type": "stream",
          "text": [
            "Using TensorFlow backend.\n"
          ],
          "name": "stderr"
        }
      ]
    },
    {
      "cell_type": "code",
      "metadata": {
        "id": "eKtG5QVRMp3G",
        "colab_type": "code",
        "colab": {
          "base_uri": "https://localhost:8080/",
          "height": 125
        },
        "outputId": "ff0a48f6-cf4b-43fc-e2c6-2c04cc286859"
      },
      "source": [
        "base_model = VGG16(weights='imagenet', include_top=False, input_shape = None, pooling = 'avg')\n",
        "x = base_model.output\n",
        "preds = Dense(3, activation='softmax', kernel_regularizer=l2(0.01))(x)\n",
        "model = Model(inputs=base_model.input, outputs=preds)\n",
        "top_layer_nb = 15\n",
        "pos_cls_weight = 1.\n",
        "neg_cls_weight = 1.\n",
        "class_weight = {0:1.0, 1:pos_cls_weight, 2:neg_cls_weight} "
      ],
      "execution_count": 3,
      "outputs": [
        {
          "output_type": "stream",
          "text": [
            "WARNING:tensorflow:From /usr/local/lib/python3.6/dist-packages/tensorflow_core/python/ops/resource_variable_ops.py:1630: calling BaseResourceVariable.__init__ (from tensorflow.python.ops.resource_variable_ops) with constraint is deprecated and will be removed in a future version.\n",
            "Instructions for updating:\n",
            "If using Keras pass *_constraint arguments to layers.\n",
            "Downloading data from https://github.com/fchollet/deep-learning-models/releases/download/v0.1/vgg16_weights_tf_dim_ordering_tf_kernels_notop.h5\n",
            "58892288/58889256 [==============================] - 2s 0us/step\n"
          ],
          "name": "stdout"
        }
      ]
    },
    {
      "cell_type": "code",
      "metadata": {
        "id": "uyjGW3m5Culk",
        "colab_type": "code",
        "colab": {}
      },
      "source": [
        "org_model = model"
      ],
      "execution_count": 0,
      "outputs": []
    },
    {
      "cell_type": "code",
      "metadata": {
        "id": "5-RrDTg1MuUr",
        "colab_type": "code",
        "colab": {}
      },
      "source": [
        "from keras.callbacks import EarlyStopping, ModelCheckpoint\n",
        "# Model saving callback\n",
        "\n",
        "checkpointer = ModelCheckpoint(filepath='Patch_CNN.h5', monitor='val_acc', verbose=1, save_best_only=True)\n",
        "\n",
        "# Early stopping\n",
        "early_stopping = EarlyStopping(monitor='val_acc', verbose=1, patience=5)\n",
        "\n",
        "#ReduceLROnPlateau\n",
        "reduce_lr = ReduceLROnPlateau(monitor = 'val_loss', factor = 0.5, partience = 2, verbose = 1)\n",
        "\n",
        "#setting the learning rate\n",
        "Adam = Adam(learning_rate=0.001)\n",
        "SGD = SGD(learning_rate=0.001)"
      ],
      "execution_count": 0,
      "outputs": []
    },
    {
      "cell_type": "markdown",
      "metadata": {
        "id": "-zmXdRVnENkj",
        "colab_type": "text"
      },
      "source": [
        "# First Stage Of training with learning rate 0.001"
      ]
    },
    {
      "cell_type": "code",
      "metadata": {
        "id": "wD1trlerrg70",
        "colab_type": "code",
        "colab": {}
      },
      "source": [
        "for layer in org_model.layers[:-1]:\n",
        "  layer.trainable = False\n",
        "#class_weight = { 0:1.0, 1:pos_cls_weight, 2:neg_cls_weight }\n",
        "nb_worker = 1\n",
        "if nb_worker == 1:\n",
        "  pickle_safe = False\n",
        "else:\n",
        "  pickle_safe = True\n"
      ],
      "execution_count": 0,
      "outputs": []
    },
    {
      "cell_type": "code",
      "metadata": {
        "id": "4-uaSeJPIX2y",
        "colab_type": "code",
        "colab": {}
      },
      "source": [
        "train_data_dir = \"/content/drive/My Drive/patches_sort\""
      ],
      "execution_count": 0,
      "outputs": []
    },
    {
      "cell_type": "code",
      "metadata": {
        "id": "B4g5XUGV4Z_3",
        "colab_type": "code",
        "outputId": "765628ec-86d3-4483-f5ce-173f92287cb2",
        "colab": {
          "base_uri": "https://localhost:8080/",
          "height": 52
        }
      },
      "source": [
        "datagen = ImageDataGenerator(validation_split=0.3)\n",
        "batch_size = 32\n",
        "img_width , img_height = 227, 227\n",
        "\n",
        "# Retrieve images and their classes for train and validation sets\n",
        "train_generator = datagen.flow_from_directory(\n",
        "        train_data_dir,\n",
        "        target_size=(img_width, img_height),\n",
        "        shuffle = True,\n",
        "        batch_size=batch_size,\n",
        "        #class_mode='binary',\n",
        "        subset = 'training')\n",
        "\n",
        "validation_generator = datagen.flow_from_directory(\n",
        "        train_data_dir,\n",
        "        target_size=(img_width, img_height),\n",
        "        shuffle = True,\n",
        "        batch_size=batch_size,\n",
        "        #class_mode='binary',\n",
        "        subset = 'validation')"
      ],
      "execution_count": 10,
      "outputs": [
        {
          "output_type": "stream",
          "text": [
            "Found 75530 images belonging to 3 classes.\n",
            "Found 32368 images belonging to 3 classes.\n"
          ],
          "name": "stdout"
        }
      ]
    },
    {
      "cell_type": "code",
      "metadata": {
        "id": "EUf5la0MC-G1",
        "colab_type": "code",
        "outputId": "0a0c64be-de02-4e8e-8b83-0a403d227499",
        "colab": {
          "base_uri": "https://localhost:8080/",
          "height": 905
        }
      },
      "source": [
        "model.compile(loss='categorical_crossentropy',\n",
        "              optimizer=Adam,\n",
        "              metrics=['accuracy'],\n",
        "              )\n",
        "model.summary()"
      ],
      "execution_count": 11,
      "outputs": [
        {
          "output_type": "stream",
          "text": [
            "Model: \"model\"\n",
            "_________________________________________________________________\n",
            "Layer (type)                 Output Shape              Param #   \n",
            "=================================================================\n",
            "input_1 (InputLayer)         [(None, None, None, 3)]   0         \n",
            "_________________________________________________________________\n",
            "block1_conv1 (Conv2D)        (None, None, None, 64)    1792      \n",
            "_________________________________________________________________\n",
            "block1_conv2 (Conv2D)        (None, None, None, 64)    36928     \n",
            "_________________________________________________________________\n",
            "block1_pool (MaxPooling2D)   (None, None, None, 64)    0         \n",
            "_________________________________________________________________\n",
            "block2_conv1 (Conv2D)        (None, None, None, 128)   73856     \n",
            "_________________________________________________________________\n",
            "block2_conv2 (Conv2D)        (None, None, None, 128)   147584    \n",
            "_________________________________________________________________\n",
            "block2_pool (MaxPooling2D)   (None, None, None, 128)   0         \n",
            "_________________________________________________________________\n",
            "block3_conv1 (Conv2D)        (None, None, None, 256)   295168    \n",
            "_________________________________________________________________\n",
            "block3_conv2 (Conv2D)        (None, None, None, 256)   590080    \n",
            "_________________________________________________________________\n",
            "block3_conv3 (Conv2D)        (None, None, None, 256)   590080    \n",
            "_________________________________________________________________\n",
            "block3_pool (MaxPooling2D)   (None, None, None, 256)   0         \n",
            "_________________________________________________________________\n",
            "block4_conv1 (Conv2D)        (None, None, None, 512)   1180160   \n",
            "_________________________________________________________________\n",
            "block4_conv2 (Conv2D)        (None, None, None, 512)   2359808   \n",
            "_________________________________________________________________\n",
            "block4_conv3 (Conv2D)        (None, None, None, 512)   2359808   \n",
            "_________________________________________________________________\n",
            "block4_pool (MaxPooling2D)   (None, None, None, 512)   0         \n",
            "_________________________________________________________________\n",
            "block5_conv1 (Conv2D)        (None, None, None, 512)   2359808   \n",
            "_________________________________________________________________\n",
            "block5_conv2 (Conv2D)        (None, None, None, 512)   2359808   \n",
            "_________________________________________________________________\n",
            "block5_conv3 (Conv2D)        (None, None, None, 512)   2359808   \n",
            "_________________________________________________________________\n",
            "block5_pool (MaxPooling2D)   (None, None, None, 512)   0         \n",
            "_________________________________________________________________\n",
            "global_average_pooling2d (Gl (None, 512)               0         \n",
            "_________________________________________________________________\n",
            "dense (Dense)                (None, 3)                 1539      \n",
            "=================================================================\n",
            "Total params: 14,716,227\n",
            "Trainable params: 1,539\n",
            "Non-trainable params: 14,714,688\n",
            "_________________________________________________________________\n"
          ],
          "name": "stdout"
        }
      ]
    },
    {
      "cell_type": "markdown",
      "metadata": {
        "id": "Pm0Rh2cIE1Wo",
        "colab_type": "text"
      },
      "source": [
        "Run the cell below for about 3 to 4 epoch"
      ]
    },
    {
      "cell_type": "code",
      "metadata": {
        "id": "JkPvEss7DN1N",
        "colab_type": "code",
        "outputId": "bd0644dd-4bae-484d-db73-a8547865f6e1",
        "colab": {
          "base_uri": "https://localhost:8080/",
          "height": 1000
        }
      },
      "source": [
        "hist = model.fit_generator(\n",
        "        train_generator,\n",
        "        steps_per_epoch=32,\n",
        "        epochs=50,\n",
        "        validation_data = validation_generator,\n",
        "        validation_steps = 32,\n",
        "        callbacks=[checkpointer, early_stopping],\n",
        "        verbose=1,\n",
        "        class_weight = class_weight)"
      ],
      "execution_count": 0,
      "outputs": [
        {
          "output_type": "stream",
          "text": [
            "Epoch 1/50\n",
            "31/32 [============================>.] - ETA: 13s - loss: 1.1604 - acc: 0.3901Epoch 1/50\n",
            "32/32 [==============================] - 5s 166ms/step - loss: 1.1319 - acc: 0.4385\n",
            "\n",
            "Epoch 00001: val_acc improved from 0.42676 to 0.43848, saving model to Patch_CNN.h5\n",
            "32/32 [==============================] - 436s 14s/step - loss: 1.1569 - acc: 0.3926 - val_loss: 1.1319 - val_acc: 0.4385\n",
            "Epoch 2/50\n",
            "31/32 [============================>.] - ETA: 10s - loss: 1.1469 - acc: 0.4093Epoch 1/50\n",
            "32/32 [==============================] - 5s 168ms/step - loss: 1.1078 - acc: 0.4561\n",
            "\n",
            "Epoch 00002: val_acc improved from 0.43848 to 0.45605, saving model to Patch_CNN.h5\n",
            "32/32 [==============================] - 337s 11s/step - loss: 1.1479 - acc: 0.4082 - val_loss: 1.1078 - val_acc: 0.4561\n",
            "Epoch 3/50\n",
            "31/32 [============================>.] - ETA: 13s - loss: 1.1148 - acc: 0.4335Epoch 1/50\n",
            "32/32 [==============================] - 5s 166ms/step - loss: 1.1220 - acc: 0.4648\n",
            "\n",
            "Epoch 00003: val_acc improved from 0.45605 to 0.46484, saving model to Patch_CNN.h5\n",
            "32/32 [==============================] - 429s 13s/step - loss: 1.1175 - acc: 0.4297 - val_loss: 1.1220 - val_acc: 0.4648\n",
            "Epoch 4/50\n",
            "31/32 [============================>.] - ETA: 12s - loss: 1.1308 - acc: 0.4224Epoch 1/50\n",
            "32/32 [==============================] - 5s 172ms/step - loss: 1.1080 - acc: 0.4619\n",
            "\n",
            "Epoch 00004: val_acc did not improve from 0.46484\n",
            "32/32 [==============================] - 410s 13s/step - loss: 1.1320 - acc: 0.4189 - val_loss: 1.1080 - val_acc: 0.4619\n",
            "Epoch 5/50\n",
            "31/32 [============================>.] - ETA: 13s - loss: 1.0969 - acc: 0.4294Epoch 1/50\n",
            "32/32 [==============================] - 5s 163ms/step - loss: 1.1071 - acc: 0.4404\n",
            "\n",
            "Epoch 00005: val_acc did not improve from 0.46484\n",
            "32/32 [==============================] - 429s 13s/step - loss: 1.0918 - acc: 0.4346 - val_loss: 1.1071 - val_acc: 0.4404\n",
            "Epoch 6/50\n",
            "31/32 [============================>.] - ETA: 9s - loss: 1.1158 - acc: 0.4153 Epoch 1/50\n",
            "32/32 [==============================] - 5s 168ms/step - loss: 1.0945 - acc: 0.4531\n",
            "\n",
            "Epoch 00006: val_acc did not improve from 0.46484\n",
            "32/32 [==============================] - 310s 10s/step - loss: 1.1217 - acc: 0.4072 - val_loss: 1.0945 - val_acc: 0.4531\n",
            "Epoch 7/50\n",
            "31/32 [============================>.] - ETA: 10s - loss: 1.0923 - acc: 0.4435Epoch 1/50\n",
            "32/32 [==============================] - 5s 168ms/step - loss: 1.0661 - acc: 0.4658\n",
            "\n",
            "Epoch 00007: val_acc improved from 0.46484 to 0.46582, saving model to Patch_CNN.h5\n",
            "32/32 [==============================] - 346s 11s/step - loss: 1.0935 - acc: 0.4434 - val_loss: 1.0661 - val_acc: 0.4658\n",
            "Epoch 8/50\n",
            "31/32 [============================>.] - ETA: 13s - loss: 1.1202 - acc: 0.4113Epoch 1/50\n",
            "32/32 [==============================] - 6s 175ms/step - loss: 1.1011 - acc: 0.4629\n",
            "\n",
            "Epoch 00008: val_acc did not improve from 0.46582\n",
            "32/32 [==============================] - 422s 13s/step - loss: 1.1170 - acc: 0.4121 - val_loss: 1.1011 - val_acc: 0.4629\n",
            "Epoch 9/50\n",
            "31/32 [============================>.] - ETA: 10s - loss: 1.1151 - acc: 0.4274Epoch 1/50\n",
            "32/32 [==============================] - 5s 168ms/step - loss: 1.1408 - acc: 0.4043\n",
            "\n",
            "Epoch 00009: val_acc did not improve from 0.46582\n",
            "32/32 [==============================] - 345s 11s/step - loss: 1.1146 - acc: 0.4277 - val_loss: 1.1408 - val_acc: 0.4043\n",
            "Epoch 10/50\n",
            "31/32 [============================>.] - ETA: 12s - loss: 1.0967 - acc: 0.4365Epoch 1/50\n",
            "32/32 [==============================] - 6s 173ms/step - loss: 1.0867 - acc: 0.4707\n",
            "\n",
            "Epoch 00010: val_acc improved from 0.46582 to 0.47070, saving model to Patch_CNN.h5\n",
            "32/32 [==============================] - 400s 13s/step - loss: 1.0956 - acc: 0.4355 - val_loss: 1.0867 - val_acc: 0.4707\n",
            "Epoch 11/50\n",
            "31/32 [============================>.] - ETA: 10s - loss: 1.0704 - acc: 0.4516Epoch 1/50\n",
            "32/32 [==============================] - 5s 168ms/step - loss: 1.0833 - acc: 0.4385\n",
            "\n",
            "Epoch 00011: val_acc did not improve from 0.47070\n",
            "32/32 [==============================] - 325s 10s/step - loss: 1.0701 - acc: 0.4502 - val_loss: 1.0833 - val_acc: 0.4385\n",
            "Epoch 12/50\n",
            "31/32 [============================>.] - ETA: 11s - loss: 1.0452 - acc: 0.4708Epoch 1/50\n",
            "32/32 [==============================] - 5s 169ms/step - loss: 1.0773 - acc: 0.4707\n",
            "\n",
            "Epoch 00012: val_acc did not improve from 0.47070\n",
            "32/32 [==============================] - 368s 11s/step - loss: 1.0503 - acc: 0.4648 - val_loss: 1.0773 - val_acc: 0.4707\n",
            "Epoch 13/50\n",
            "31/32 [============================>.] - ETA: 10s - loss: 1.0986 - acc: 0.4496Epoch 1/50\n",
            "32/32 [==============================] - 6s 173ms/step - loss: 1.0497 - acc: 0.4746\n",
            "\n",
            "Epoch 00013: val_acc improved from 0.47070 to 0.47461, saving model to Patch_CNN.h5\n",
            "32/32 [==============================] - 336s 10s/step - loss: 1.1003 - acc: 0.4473 - val_loss: 1.0497 - val_acc: 0.4746\n",
            "Epoch 14/50\n",
            "15/32 [=============>................] - ETA: 3:36 - loss: 1.0534 - acc: 0.4646"
          ],
          "name": "stdout"
        }
      ]
    },
    {
      "cell_type": "code",
      "metadata": {
        "id": "t3ePHBOjHoSX",
        "colab_type": "code",
        "colab": {}
      },
      "source": [
        "loss_history = hist.history['val_loss']\n",
        "acc_history = hist.history['val_acc']"
      ],
      "execution_count": 0,
      "outputs": []
    },
    {
      "cell_type": "markdown",
      "metadata": {
        "id": "k7c6D2cfVAIE",
        "colab_type": "text"
      },
      "source": [
        "# Second Stage of training with learning rate of 0.0001"
      ]
    },
    {
      "cell_type": "code",
      "metadata": {
        "id": "EYlDAPRMHDhj",
        "colab_type": "code",
        "outputId": "2371a680-0e20-4ad3-cb3d-87ecbb36360f",
        "colab": {
          "base_uri": "https://localhost:8080/",
          "height": 935
        }
      },
      "source": [
        "Adam1 = tf.keras.optimizers.Adam(learning_rate = 0.0001)\n",
        "for layer in org_model.layers[top_layer_nb:]:\n",
        "  layer.trainable = True\n",
        "model.compile(loss='categorical_crossentropy',\n",
        "              optimizer=Adam1,\n",
        "              metrics=['accuracy'],\n",
        "              )\n",
        "model.summary()"
      ],
      "execution_count": 0,
      "outputs": [
        {
          "output_type": "stream",
          "text": [
            "Model: \"model_2\"\n",
            "_________________________________________________________________\n",
            "Layer (type)                 Output Shape              Param #   \n",
            "=================================================================\n",
            "input_3 (InputLayer)         [(None, 227, 227, 3)]     0         \n",
            "_________________________________________________________________\n",
            "block1_conv1 (Conv2D)        (None, 227, 227, 64)      1792      \n",
            "_________________________________________________________________\n",
            "block1_conv2 (Conv2D)        (None, 227, 227, 64)      36928     \n",
            "_________________________________________________________________\n",
            "block1_pool (MaxPooling2D)   (None, 113, 113, 64)      0         \n",
            "_________________________________________________________________\n",
            "block2_conv1 (Conv2D)        (None, 113, 113, 128)     73856     \n",
            "_________________________________________________________________\n",
            "block2_conv2 (Conv2D)        (None, 113, 113, 128)     147584    \n",
            "_________________________________________________________________\n",
            "block2_pool (MaxPooling2D)   (None, 56, 56, 128)       0         \n",
            "_________________________________________________________________\n",
            "block3_conv1 (Conv2D)        (None, 56, 56, 256)       295168    \n",
            "_________________________________________________________________\n",
            "block3_conv2 (Conv2D)        (None, 56, 56, 256)       590080    \n",
            "_________________________________________________________________\n",
            "block3_conv3 (Conv2D)        (None, 56, 56, 256)       590080    \n",
            "_________________________________________________________________\n",
            "block3_pool (MaxPooling2D)   (None, 28, 28, 256)       0         \n",
            "_________________________________________________________________\n",
            "block4_conv1 (Conv2D)        (None, 28, 28, 512)       1180160   \n",
            "_________________________________________________________________\n",
            "block4_conv2 (Conv2D)        (None, 28, 28, 512)       2359808   \n",
            "_________________________________________________________________\n",
            "block4_conv3 (Conv2D)        (None, 28, 28, 512)       2359808   \n",
            "_________________________________________________________________\n",
            "block4_pool (MaxPooling2D)   (None, 14, 14, 512)       0         \n",
            "_________________________________________________________________\n",
            "block5_conv1 (Conv2D)        (None, 14, 14, 512)       2359808   \n",
            "_________________________________________________________________\n",
            "block5_conv2 (Conv2D)        (None, 14, 14, 512)       2359808   \n",
            "_________________________________________________________________\n",
            "block5_conv3 (Conv2D)        (None, 14, 14, 512)       2359808   \n",
            "_________________________________________________________________\n",
            "block5_pool (MaxPooling2D)   (None, 7, 7, 512)         0         \n",
            "_________________________________________________________________\n",
            "global_average_pooling2d_2 ( (None, 512)               0         \n",
            "_________________________________________________________________\n",
            "dense_2 (Dense)              (None, 3)                 1539      \n",
            "=================================================================\n",
            "Total params: 14,716,227\n",
            "Trainable params: 7,080,963\n",
            "Non-trainable params: 7,635,264\n",
            "_________________________________________________________________\n"
          ],
          "name": "stdout"
        }
      ]
    },
    {
      "cell_type": "code",
      "metadata": {
        "id": "aj10FPmzSRcm",
        "colab_type": "code",
        "colab": {}
      },
      "source": [
        "from keras.callbacks import EarlyStopping, ModelCheckpoint\n",
        "# Model saving callback\n",
        "\n",
        "checkpointer1 = ModelCheckpoint(filepath='2ndPatch_CNN.h5', monitor='val_acc', verbose=1, save_best_only=True)\n",
        "\n",
        "# Early stopping\n",
        "early_stopping1 = EarlyStopping(monitor='val_acc', verbose=1, patience=5)"
      ],
      "execution_count": 0,
      "outputs": []
    },
    {
      "cell_type": "code",
      "metadata": {
        "id": "Mjo4cw2oJIUU",
        "colab_type": "code",
        "outputId": "b296e78f-6aa9-4a04-a40c-a09678071c51",
        "colab": {
          "base_uri": "https://localhost:8080/",
          "height": 1000
        }
      },
      "source": [
        "hist = model.fit_generator(\n",
        "        train_generator,\n",
        "        steps_per_epoch=32,\n",
        "        epochs=len(loss_history)+10,\n",
        "        validation_data = validation_generator,\n",
        "        validation_steps = 32,\n",
        "        callbacks=[checkpointer1, early_stopping1],\n",
        "        verbose=1,\n",
        "        initial_epoch = len(loss_history),\n",
        "        class_weight = class_weight)"
      ],
      "execution_count": 0,
      "outputs": [
        {
          "output_type": "stream",
          "text": [
            "Epoch 4/13\n",
            "31/32 [============================>.] - ETA: 18s - loss: 1.2842 - acc: 0.3669Epoch 1/13\n",
            "32/32 [==============================] - 7s 218ms/step - loss: 1.1065 - acc: 0.3955\n",
            "\n",
            "Epoch 00004: val_acc improved from -inf to 0.39551, saving model to 2ndPatch_CNN.h5\n",
            "32/32 [==============================] - 585s 18s/step - loss: 1.2802 - acc: 0.3662 - val_loss: 1.1065 - val_acc: 0.3955\n",
            "Epoch 5/13\n",
            "31/32 [============================>.] - ETA: 19s - loss: 1.1103 - acc: 0.4143Epoch 1/13\n",
            "32/32 [==============================] - 7s 218ms/step - loss: 1.1223 - acc: 0.4062\n",
            "\n",
            "Epoch 00005: val_acc improved from 0.39551 to 0.40625, saving model to 2ndPatch_CNN.h5\n",
            "32/32 [==============================] - 626s 20s/step - loss: 1.1110 - acc: 0.4131 - val_loss: 1.1223 - val_acc: 0.4062\n",
            "Epoch 6/13\n",
            "31/32 [============================>.] - ETA: 18s - loss: 1.1032 - acc: 0.3942Epoch 1/13\n",
            "32/32 [==============================] - 7s 217ms/step - loss: 1.1766 - acc: 0.4463\n",
            "\n",
            "Epoch 00006: val_acc improved from 0.40625 to 0.44629, saving model to 2ndPatch_CNN.h5\n",
            "32/32 [==============================] - 605s 19s/step - loss: 1.1058 - acc: 0.3945 - val_loss: 1.1766 - val_acc: 0.4463\n",
            "Epoch 7/13\n",
            "31/32 [============================>.] - ETA: 20s - loss: 1.0816 - acc: 0.4214Epoch 1/13\n",
            "32/32 [==============================] - 7s 220ms/step - loss: 1.1813 - acc: 0.4355\n",
            "\n",
            "Epoch 00007: val_acc did not improve from 0.44629\n",
            "32/32 [==============================] - 662s 21s/step - loss: 1.0811 - acc: 0.4219 - val_loss: 1.1813 - val_acc: 0.4355\n",
            "Epoch 8/13\n",
            "31/32 [============================>.] - ETA: 19s - loss: 1.0765 - acc: 0.4274Epoch 1/13\n",
            "32/32 [==============================] - 7s 218ms/step - loss: 1.2635 - acc: 0.4463\n",
            "\n",
            "Epoch 00008: val_acc did not improve from 0.44629\n",
            "32/32 [==============================] - 629s 20s/step - loss: 1.0798 - acc: 0.4258 - val_loss: 1.2635 - val_acc: 0.4463\n",
            "Epoch 9/13\n",
            "31/32 [============================>.] - ETA: 18s - loss: 1.0660 - acc: 0.4093Epoch 1/13\n",
            "32/32 [==============================] - 7s 221ms/step - loss: 1.2333 - acc: 0.4424\n",
            "\n",
            "Epoch 00009: val_acc did not improve from 0.44629\n",
            "32/32 [==============================] - 599s 19s/step - loss: 1.0664 - acc: 0.4102 - val_loss: 1.2333 - val_acc: 0.4424\n",
            "Epoch 10/13\n",
            "31/32 [============================>.] - ETA: 19s - loss: 1.0539 - acc: 0.4214Epoch 1/13\n",
            "32/32 [==============================] - 7s 222ms/step - loss: 1.4524 - acc: 0.4639\n",
            "\n",
            "Epoch 00010: val_acc improved from 0.44629 to 0.46387, saving model to 2ndPatch_CNN.h5\n",
            "32/32 [==============================] - 646s 20s/step - loss: 1.0542 - acc: 0.4248 - val_loss: 1.4524 - val_acc: 0.4639\n",
            "Epoch 11/13\n",
            "31/32 [============================>.] - ETA: 19s - loss: 1.0393 - acc: 0.4607Epoch 1/13\n",
            "32/32 [==============================] - 7s 223ms/step - loss: 1.4437 - acc: 0.4902\n",
            "\n",
            "Epoch 00011: val_acc improved from 0.46387 to 0.49023, saving model to 2ndPatch_CNN.h5\n",
            "32/32 [==============================] - 634s 20s/step - loss: 1.0405 - acc: 0.4600 - val_loss: 1.4437 - val_acc: 0.4902\n",
            "Epoch 12/13\n",
            "31/32 [============================>.] - ETA: 20s - loss: 1.0555 - acc: 0.4395Epoch 1/13\n",
            "32/32 [==============================] - 7s 225ms/step - loss: 1.5208 - acc: 0.4736\n",
            "\n",
            "Epoch 00012: val_acc did not improve from 0.49023\n",
            "32/32 [==============================] - 649s 20s/step - loss: 1.0534 - acc: 0.4424 - val_loss: 1.5208 - val_acc: 0.4736\n",
            "Epoch 13/13\n",
            "31/32 [============================>.] - ETA: 20s - loss: 1.0736 - acc: 0.4083Epoch 1/13\n",
            "32/32 [==============================] - 7s 222ms/step - loss: 1.6366 - acc: 0.4844\n",
            "\n",
            "Epoch 00013: val_acc did not improve from 0.49023\n",
            "32/32 [==============================] - 668s 21s/step - loss: 1.0715 - acc: 0.4053 - val_loss: 1.6366 - val_acc: 0.4844\n"
          ],
          "name": "stdout"
        }
      ]
    },
    {
      "cell_type": "code",
      "metadata": {
        "id": "-uzNN9QEJjOY",
        "colab_type": "code",
        "colab": {}
      },
      "source": [
        "import numpy as np\n",
        "loss_history = np.append(loss_history, hist.history['val_loss'])\n",
        "acc_history = np.append(acc_history, hist.history['val_acc'])"
      ],
      "execution_count": 0,
      "outputs": []
    },
    {
      "cell_type": "markdown",
      "metadata": {
        "id": "yFXGnAq8Wxs5",
        "colab_type": "text"
      },
      "source": [
        "# Third Stage of training with learning rate 0.00001"
      ]
    },
    {
      "cell_type": "code",
      "metadata": {
        "id": "olyBrfPlS35H",
        "colab_type": "code",
        "colab": {}
      },
      "source": [
        "for layers in org_model.layers[:top_layer_nb]:\n",
        "  layer.trainable = True"
      ],
      "execution_count": 0,
      "outputs": []
    },
    {
      "cell_type": "code",
      "metadata": {
        "id": "QJP6UgySTcSx",
        "colab_type": "code",
        "outputId": "c472e339-9b3a-4b6f-b5b8-531e488dcee6",
        "colab": {
          "base_uri": "https://localhost:8080/",
          "height": 935
        }
      },
      "source": [
        "Adam2 = tf.keras.optimizers.Adam(learning_rate = 0.00001)\n",
        "model.compile(loss='categorical_crossentropy',\n",
        "              optimizer=Adam2,\n",
        "              metrics=['accuracy'],\n",
        "              )\n",
        "model.summary()"
      ],
      "execution_count": 0,
      "outputs": [
        {
          "output_type": "stream",
          "text": [
            "Model: \"model_2\"\n",
            "_________________________________________________________________\n",
            "Layer (type)                 Output Shape              Param #   \n",
            "=================================================================\n",
            "input_3 (InputLayer)         [(None, 227, 227, 3)]     0         \n",
            "_________________________________________________________________\n",
            "block1_conv1 (Conv2D)        (None, 227, 227, 64)      1792      \n",
            "_________________________________________________________________\n",
            "block1_conv2 (Conv2D)        (None, 227, 227, 64)      36928     \n",
            "_________________________________________________________________\n",
            "block1_pool (MaxPooling2D)   (None, 113, 113, 64)      0         \n",
            "_________________________________________________________________\n",
            "block2_conv1 (Conv2D)        (None, 113, 113, 128)     73856     \n",
            "_________________________________________________________________\n",
            "block2_conv2 (Conv2D)        (None, 113, 113, 128)     147584    \n",
            "_________________________________________________________________\n",
            "block2_pool (MaxPooling2D)   (None, 56, 56, 128)       0         \n",
            "_________________________________________________________________\n",
            "block3_conv1 (Conv2D)        (None, 56, 56, 256)       295168    \n",
            "_________________________________________________________________\n",
            "block3_conv2 (Conv2D)        (None, 56, 56, 256)       590080    \n",
            "_________________________________________________________________\n",
            "block3_conv3 (Conv2D)        (None, 56, 56, 256)       590080    \n",
            "_________________________________________________________________\n",
            "block3_pool (MaxPooling2D)   (None, 28, 28, 256)       0         \n",
            "_________________________________________________________________\n",
            "block4_conv1 (Conv2D)        (None, 28, 28, 512)       1180160   \n",
            "_________________________________________________________________\n",
            "block4_conv2 (Conv2D)        (None, 28, 28, 512)       2359808   \n",
            "_________________________________________________________________\n",
            "block4_conv3 (Conv2D)        (None, 28, 28, 512)       2359808   \n",
            "_________________________________________________________________\n",
            "block4_pool (MaxPooling2D)   (None, 14, 14, 512)       0         \n",
            "_________________________________________________________________\n",
            "block5_conv1 (Conv2D)        (None, 14, 14, 512)       2359808   \n",
            "_________________________________________________________________\n",
            "block5_conv2 (Conv2D)        (None, 14, 14, 512)       2359808   \n",
            "_________________________________________________________________\n",
            "block5_conv3 (Conv2D)        (None, 14, 14, 512)       2359808   \n",
            "_________________________________________________________________\n",
            "block5_pool (MaxPooling2D)   (None, 7, 7, 512)         0         \n",
            "_________________________________________________________________\n",
            "global_average_pooling2d_2 ( (None, 512)               0         \n",
            "_________________________________________________________________\n",
            "dense_2 (Dense)              (None, 3)                 1539      \n",
            "=================================================================\n",
            "Total params: 14,716,227\n",
            "Trainable params: 7,080,963\n",
            "Non-trainable params: 7,635,264\n",
            "_________________________________________________________________\n"
          ],
          "name": "stdout"
        }
      ]
    },
    {
      "cell_type": "code",
      "metadata": {
        "id": "fC5SLRtQTisA",
        "colab_type": "code",
        "outputId": "a55e4516-9d0e-4723-9848-7152cb9c8de4",
        "colab": {
          "base_uri": "https://localhost:8080/",
          "height": 147
        }
      },
      "source": [
        "mod = tf.keras.models.load_model(\"/content/Patch_CNN.h5\")\n",
        "from keras.callbacks import EarlyStopping, ModelCheckpoint\n",
        "# Model saving callback\n",
        "\n",
        "checkpointer1 = ModelCheckpoint(filepath='3rdPatch_CNN.h5', monitor='val_acc', verbose=1, save_best_only=True)\n",
        "\n",
        "# Early stopping\n",
        "early_stopping1 = EarlyStopping(monitor='val_acc', verbose=1, patience=5)"
      ],
      "execution_count": 0,
      "outputs": [
        {
          "output_type": "stream",
          "text": [
            "WARNING:tensorflow:From /usr/local/lib/python3.6/dist-packages/tensorflow_core/python/ops/init_ops.py:97: calling GlorotUniform.__init__ (from tensorflow.python.ops.init_ops) with dtype is deprecated and will be removed in a future version.\n",
            "Instructions for updating:\n",
            "Call initializer instance with the dtype argument instead of passing it to the constructor\n",
            "WARNING:tensorflow:From /usr/local/lib/python3.6/dist-packages/tensorflow_core/python/ops/init_ops.py:97: calling Zeros.__init__ (from tensorflow.python.ops.init_ops) with dtype is deprecated and will be removed in a future version.\n",
            "Instructions for updating:\n",
            "Call initializer instance with the dtype argument instead of passing it to the constructor\n"
          ],
          "name": "stdout"
        }
      ]
    },
    {
      "cell_type": "code",
      "metadata": {
        "id": "n6nYOQkrT3Wz",
        "colab_type": "code",
        "outputId": "e7cdbfda-fa9c-4942-b538-1444bb733e8c",
        "colab": {
          "base_uri": "https://localhost:8080/",
          "height": 1000
        }
      },
      "source": [
        "hist = model.fit_generator(\n",
        "        train_generator,\n",
        "        steps_per_epoch=32,\n",
        "        epochs=len(loss_history)+37,\n",
        "        validation_data = validation_generator,\n",
        "        validation_steps = 32,\n",
        "        callbacks=[checkpointer1, early_stopping1],\n",
        "        verbose=1,\n",
        "        initial_epoch = len(loss_history),\n",
        "        class_weight = class_weight)"
      ],
      "execution_count": 0,
      "outputs": [
        {
          "output_type": "stream",
          "text": [
            "Epoch 14/50\n",
            "31/32 [============================>.] - ETA: 12s - loss: 1.0367 - acc: 0.4345Epoch 1/50\n",
            "32/32 [==============================] - 7s 225ms/step - loss: 1.8808 - acc: 0.4834\n",
            "\n",
            "Epoch 00014: val_acc improved from -inf to 0.48340, saving model to 3rdPatch_CNN.h5\n",
            "32/32 [==============================] - 411s 13s/step - loss: 1.0363 - acc: 0.4326 - val_loss: 1.8808 - val_acc: 0.4834\n",
            "Epoch 15/50\n",
            "31/32 [============================>.] - ETA: 12s - loss: 1.0161 - acc: 0.4476Epoch 1/50\n",
            "32/32 [==============================] - 7s 225ms/step - loss: 2.0609 - acc: 0.4775\n",
            "\n",
            "Epoch 00015: val_acc did not improve from 0.48340\n",
            "32/32 [==============================] - 401s 13s/step - loss: 1.0175 - acc: 0.4492 - val_loss: 2.0609 - val_acc: 0.4775\n",
            "Epoch 16/50\n",
            "31/32 [============================>.] - ETA: 16s - loss: 1.0384 - acc: 0.4587Epoch 1/50\n",
            "32/32 [==============================] - 7s 228ms/step - loss: 2.0570 - acc: 0.4795\n",
            "\n",
            "Epoch 00016: val_acc did not improve from 0.48340\n",
            "32/32 [==============================] - 555s 17s/step - loss: 1.0372 - acc: 0.4600 - val_loss: 2.0570 - val_acc: 0.4795\n",
            "Epoch 17/50\n",
            "31/32 [============================>.] - ETA: 14s - loss: 1.0178 - acc: 0.4768Epoch 1/50\n",
            "32/32 [==============================] - 7s 229ms/step - loss: 2.1962 - acc: 0.4980\n",
            "\n",
            "Epoch 00017: val_acc improved from 0.48340 to 0.49805, saving model to 3rdPatch_CNN.h5\n",
            "32/32 [==============================] - 488s 15s/step - loss: 1.0188 - acc: 0.4746 - val_loss: 2.1962 - val_acc: 0.4980\n",
            "Epoch 18/50\n",
            "31/32 [============================>.] - ETA: 14s - loss: 1.0297 - acc: 0.4667Epoch 1/50\n",
            "32/32 [==============================] - 7s 227ms/step - loss: 2.1192 - acc: 0.5000\n",
            "\n",
            "Epoch 00018: val_acc improved from 0.49805 to 0.50000, saving model to 3rdPatch_CNN.h5\n",
            "32/32 [==============================] - 455s 14s/step - loss: 1.0294 - acc: 0.4658 - val_loss: 2.1192 - val_acc: 0.5000\n",
            "Epoch 19/50\n",
            "31/32 [============================>.] - ETA: 15s - loss: 1.0167 - acc: 0.4567Epoch 1/50\n",
            "32/32 [==============================] - 7s 230ms/step - loss: 2.0007 - acc: 0.4893\n",
            "\n",
            "Epoch 00019: val_acc did not improve from 0.50000\n",
            "32/32 [==============================] - 505s 16s/step - loss: 1.0155 - acc: 0.4531 - val_loss: 2.0007 - val_acc: 0.4893\n",
            "Epoch 20/50\n",
            "31/32 [============================>.] - ETA: 13s - loss: 1.0163 - acc: 0.4869Epoch 1/50\n",
            "32/32 [==============================] - 7s 234ms/step - loss: 2.0608 - acc: 0.4834\n",
            "\n",
            "Epoch 00020: val_acc did not improve from 0.50000\n",
            "32/32 [==============================] - 424s 13s/step - loss: 1.0147 - acc: 0.4902 - val_loss: 2.0608 - val_acc: 0.4834\n",
            "Epoch 21/50\n",
            "31/32 [============================>.] - ETA: 15s - loss: 1.0220 - acc: 0.4748Epoch 1/50\n",
            "32/32 [==============================] - 7s 230ms/step - loss: 2.0783 - acc: 0.5127\n",
            "\n",
            "Epoch 00021: val_acc improved from 0.50000 to 0.51270, saving model to 3rdPatch_CNN.h5\n",
            "32/32 [==============================] - 510s 16s/step - loss: 1.0230 - acc: 0.4727 - val_loss: 2.0783 - val_acc: 0.5127\n",
            "Epoch 22/50\n",
            "31/32 [============================>.] - ETA: 16s - loss: 1.0308 - acc: 0.4607Epoch 1/50\n",
            "32/32 [==============================] - 7s 229ms/step - loss: 2.0777 - acc: 0.5059\n",
            "\n",
            "Epoch 00022: val_acc did not improve from 0.51270\n",
            "32/32 [==============================] - 528s 17s/step - loss: 1.0306 - acc: 0.4561 - val_loss: 2.0777 - val_acc: 0.5059\n",
            "Epoch 23/50\n",
            "31/32 [============================>.] - ETA: 16s - loss: 1.0155 - acc: 0.4577Epoch 1/50\n",
            "32/32 [==============================] - 8s 237ms/step - loss: 2.3883 - acc: 0.4990\n",
            "\n",
            "Epoch 00023: val_acc did not improve from 0.51270\n",
            "32/32 [==============================] - 534s 17s/step - loss: 1.0129 - acc: 0.4551 - val_loss: 2.3883 - val_acc: 0.4990\n",
            "Epoch 24/50\n",
            "31/32 [============================>.] - ETA: 17s - loss: 1.0172 - acc: 0.4550Epoch 1/50\n",
            "32/32 [==============================] - 7s 232ms/step - loss: 2.0758 - acc: 0.4902\n",
            "\n",
            "Epoch 00024: val_acc did not improve from 0.51270\n",
            "32/32 [==============================] - 559s 17s/step - loss: 1.0226 - acc: 0.4515 - val_loss: 2.0758 - val_acc: 0.4902\n",
            "Epoch 25/50\n",
            "31/32 [============================>.] - ETA: 15s - loss: 1.0134 - acc: 0.4617Epoch 1/50\n",
            "32/32 [==============================] - 7s 232ms/step - loss: 2.0643 - acc: 0.4854\n",
            "\n",
            "Epoch 00025: val_acc did not improve from 0.51270\n",
            "32/32 [==============================] - 507s 16s/step - loss: 1.0172 - acc: 0.4590 - val_loss: 2.0643 - val_acc: 0.4854\n",
            "Epoch 26/50\n",
            "31/32 [============================>.] - ETA: 14s - loss: 1.0056 - acc: 0.4798Epoch 1/50\n",
            "32/32 [==============================] - 8s 239ms/step - loss: 1.9392 - acc: 0.4990\n",
            "\n",
            "Epoch 00026: val_acc did not improve from 0.51270\n",
            "32/32 [==============================] - 492s 15s/step - loss: 1.0045 - acc: 0.4824 - val_loss: 1.9392 - val_acc: 0.4990\n",
            "Epoch 00026: early stopping\n"
          ],
          "name": "stdout"
        }
      ]
    },
    {
      "cell_type": "code",
      "metadata": {
        "id": "npu2xvfTT8nO",
        "colab_type": "code",
        "colab": {}
      },
      "source": [
        ""
      ],
      "execution_count": 0,
      "outputs": []
    }
  ]
}