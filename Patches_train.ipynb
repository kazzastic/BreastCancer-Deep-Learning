{
  "nbformat": 4,
  "nbformat_minor": 0,
  "metadata": {
    "accelerator": "GPU",
    "colab": {
      "name": "Patches train.ipynb",
      "provenance": [],
      "collapsed_sections": [],
      "toc_visible": true,
      "include_colab_link": true
    },
    "kernelspec": {
      "name": "python3",
      "display_name": "Python 3"
    },
    "language_info": {
      "codemirror_mode": {
        "name": "ipython",
        "version": 3
      },
      "file_extension": ".py",
      "mimetype": "text/x-python",
      "name": "python",
      "nbconvert_exporter": "python",
      "pygments_lexer": "ipython3",
      "version": "3.6.9"
    }
  },
  "cells": [
    {
      "cell_type": "markdown",
      "metadata": {
        "id": "view-in-github",
        "colab_type": "text"
      },
      "source": [
        "<a href=\"https://colab.research.google.com/github/kazzastic/BreastCancer-Deep-Learning/blob/master/Patches_train.ipynb\" target=\"_parent\"><img src=\"https://colab.research.google.com/assets/colab-badge.svg\" alt=\"Open In Colab\"/></a>"
      ]
    },
    {
      "cell_type": "code",
      "metadata": {
        "id": "W_61Z46kMVbW",
        "colab_type": "code",
        "outputId": "d01a7c63-ae15-4ca8-c95e-729acd5a4c02",
        "colab": {
          "base_uri": "https://localhost:8080/",
          "height": 125
        }
      },
      "source": [
        "from google.colab import drive\n",
        "drive.mount('/content/drive')"
      ],
      "execution_count": 2,
      "outputs": [
        {
          "output_type": "stream",
          "text": [
            "Go to this URL in a browser: https://accounts.google.com/o/oauth2/auth?client_id=947318989803-6bn6qk8qdgf4n4g3pfee6491hc0brc4i.apps.googleusercontent.com&redirect_uri=urn%3aietf%3awg%3aoauth%3a2.0%3aoob&response_type=code&scope=email%20https%3a%2f%2fwww.googleapis.com%2fauth%2fdocs.test%20https%3a%2f%2fwww.googleapis.com%2fauth%2fdrive%20https%3a%2f%2fwww.googleapis.com%2fauth%2fdrive.photos.readonly%20https%3a%2f%2fwww.googleapis.com%2fauth%2fpeopleapi.readonly\n",
            "\n",
            "Enter your authorization code:\n",
            "··········\n",
            "Mounted at /content/drive\n"
          ],
          "name": "stdout"
        }
      ]
    },
    {
      "cell_type": "code",
      "metadata": {
        "id": "3dYlDANMMWph",
        "colab_type": "code",
        "colab": {
          "base_uri": "https://localhost:8080/",
          "height": 81
        },
        "outputId": "b8bad5c6-36aa-45bd-f9de-0dcd596ba5f6"
      },
      "source": [
        "import tensorflow as tf\n",
        "from tensorflow.keras.applications.vgg16 import VGG16\n",
        "from tensorflow.keras.layers import GlobalAveragePooling2D, Dropout, Dense\n",
        "from tensorflow.keras.models import Model\n",
        "from keras.preprocessing.image import ImageDataGenerator\n",
        "from tensorflow.keras.layers import Dense, Dropout, Activation, Flatten\n",
        "from tensorflow.keras.layers import Conv2D, MaxPooling2D\n",
        "from tensorflow.keras.models import Sequential\n",
        "from tensorflow.keras.callbacks import ReduceLROnPlateau\n",
        "from tensorflow.keras.regularizers import l2\n",
        "from tensorflow.keras.optimizers import Adam, SGD"
      ],
      "execution_count": 3,
      "outputs": [
        {
          "output_type": "display_data",
          "data": {
            "text/html": [
              "<p style=\"color: red;\">\n",
              "The default version of TensorFlow in Colab will soon switch to TensorFlow 2.x.<br>\n",
              "We recommend you <a href=\"https://www.tensorflow.org/guide/migrate\" target=\"_blank\">upgrade</a> now \n",
              "or ensure your notebook will continue to use TensorFlow 1.x via the <code>%tensorflow_version 1.x</code> magic:\n",
              "<a href=\"https://colab.research.google.com/notebooks/tensorflow_version.ipynb\" target=\"_blank\">more info</a>.</p>\n"
            ],
            "text/plain": [
              "<IPython.core.display.HTML object>"
            ]
          },
          "metadata": {
            "tags": []
          }
        },
        {
          "output_type": "stream",
          "text": [
            "Using TensorFlow backend.\n"
          ],
          "name": "stderr"
        }
      ]
    },
    {
      "cell_type": "code",
      "metadata": {
        "id": "eKtG5QVRMp3G",
        "colab_type": "code",
        "colab": {
          "base_uri": "https://localhost:8080/",
          "height": 125
        },
        "outputId": "6f7c7a38-5385-4e2d-ce96-6ee3e26ebaca"
      },
      "source": [
        "base_model = VGG16(weights='imagenet', include_top=False, input_shape = (227,227,3), pooling = 'avg')\n",
        "x = base_model.output\n",
        "preds = Dense(3, activation='softmax', kernel_regularizer=l2(0.01))(x)\n",
        "model = Model(inputs=base_model.input, outputs=preds)\n",
        "top_layer_nb = 15\n",
        "pos_cls_weight = 1.\n",
        "neg_cls_weight = 1.\n",
        "class_weight = {0:1.0, 1:pos_cls_weight, 2:neg_cls_weight} "
      ],
      "execution_count": 4,
      "outputs": [
        {
          "output_type": "stream",
          "text": [
            "WARNING:tensorflow:From /usr/local/lib/python3.6/dist-packages/tensorflow_core/python/ops/resource_variable_ops.py:1630: calling BaseResourceVariable.__init__ (from tensorflow.python.ops.resource_variable_ops) with constraint is deprecated and will be removed in a future version.\n",
            "Instructions for updating:\n",
            "If using Keras pass *_constraint arguments to layers.\n",
            "Downloading data from https://github.com/fchollet/deep-learning-models/releases/download/v0.1/vgg16_weights_tf_dim_ordering_tf_kernels_notop.h5\n",
            "58892288/58889256 [==============================] - 6s 0us/step\n"
          ],
          "name": "stdout"
        }
      ]
    },
    {
      "cell_type": "code",
      "metadata": {
        "id": "uyjGW3m5Culk",
        "colab_type": "code",
        "colab": {}
      },
      "source": [
        "org_model = model"
      ],
      "execution_count": 0,
      "outputs": []
    },
    {
      "cell_type": "code",
      "metadata": {
        "id": "5-RrDTg1MuUr",
        "colab_type": "code",
        "colab": {}
      },
      "source": [
        "from keras.callbacks import EarlyStopping, ModelCheckpoint\n",
        "# Model saving callback\n",
        "\n",
        "checkpointer = ModelCheckpoint(filepath='Patch_CNN.h5', monitor='val_acc', verbose=1, save_best_only=True)\n",
        "\n",
        "# Early stopping\n",
        "early_stopping = EarlyStopping(monitor='val_acc', verbose=1, patience=5)\n",
        "\n",
        "#ReduceLROnPlateau\n",
        "reduce_lr = ReduceLROnPlateau(monitor = 'val_loss', factor = 0.5, partience = 2, verbose = 1)\n",
        "\n",
        "#setting the learning rate\n",
        "Adam = Adam(learning_rate=0.001)\n",
        "SGD = SGD(learning_rate=0.001)"
      ],
      "execution_count": 0,
      "outputs": []
    },
    {
      "cell_type": "markdown",
      "metadata": {
        "id": "-zmXdRVnENkj",
        "colab_type": "text"
      },
      "source": [
        "# First Stage Of training with learning rate 0.001"
      ]
    },
    {
      "cell_type": "code",
      "metadata": {
        "id": "wD1trlerrg70",
        "colab_type": "code",
        "colab": {}
      },
      "source": [
        "for layer in org_model.layers[:-1]:\n",
        "  layer.trainable = False\n",
        "#class_weight = { 0:1.0, 1:pos_cls_weight, 2:neg_cls_weight }\n",
        "nb_worker = 1\n",
        "if nb_worker == 1:\n",
        "  pickle_safe = False\n",
        "else:\n",
        "  pickle_safe = True\n"
      ],
      "execution_count": 0,
      "outputs": []
    },
    {
      "cell_type": "code",
      "metadata": {
        "id": "4-uaSeJPIX2y",
        "colab_type": "code",
        "colab": {}
      },
      "source": [
        "train_data_dir = \"/content/drive/My Drive/patches_sort\""
      ],
      "execution_count": 0,
      "outputs": []
    },
    {
      "cell_type": "code",
      "metadata": {
        "id": "B4g5XUGV4Z_3",
        "colab_type": "code",
        "outputId": "2ee4aec6-53ce-4829-f172-03ee09ec7c6c",
        "colab": {
          "base_uri": "https://localhost:8080/",
          "height": 52
        }
      },
      "source": [
        "datagen = ImageDataGenerator(validation_split=0.3)\n",
        "batch_size = 32\n",
        "img_width , img_height = 227, 227\n",
        "\n",
        "# Retrieve images and their classes for train and validation sets\n",
        "train_generator = datagen.flow_from_directory(\n",
        "        train_data_dir,\n",
        "        target_size=(img_width, img_height),\n",
        "        shuffle = True,\n",
        "        batch_size=batch_size,\n",
        "        #class_mode='binary',\n",
        "        subset = 'training')\n",
        "\n",
        "validation_generator = datagen.flow_from_directory(\n",
        "        train_data_dir,\n",
        "        target_size=(img_width, img_height),\n",
        "        shuffle = True,\n",
        "        batch_size=batch_size,\n",
        "        #class_mode='binary',\n",
        "        subset = 'validation')"
      ],
      "execution_count": 9,
      "outputs": [
        {
          "output_type": "stream",
          "text": [
            "Found 10678 images belonging to 3 classes.\n",
            "Found 10811 images belonging to 3 classes.\n"
          ],
          "name": "stdout"
        }
      ]
    },
    {
      "cell_type": "code",
      "metadata": {
        "id": "EUf5la0MC-G1",
        "colab_type": "code",
        "outputId": "93753cc0-1aae-480d-c8b0-79e99d2eaed9",
        "colab": {
          "base_uri": "https://localhost:8080/",
          "height": 905
        }
      },
      "source": [
        "model.compile(loss='categorical_crossentropy',\n",
        "              optimizer=Adam,\n",
        "              metrics=['accuracy'],\n",
        "              )\n",
        "model.summary()"
      ],
      "execution_count": 10,
      "outputs": [
        {
          "output_type": "stream",
          "text": [
            "Model: \"model\"\n",
            "_________________________________________________________________\n",
            "Layer (type)                 Output Shape              Param #   \n",
            "=================================================================\n",
            "input_1 (InputLayer)         [(None, 227, 227, 3)]     0         \n",
            "_________________________________________________________________\n",
            "block1_conv1 (Conv2D)        (None, 227, 227, 64)      1792      \n",
            "_________________________________________________________________\n",
            "block1_conv2 (Conv2D)        (None, 227, 227, 64)      36928     \n",
            "_________________________________________________________________\n",
            "block1_pool (MaxPooling2D)   (None, 113, 113, 64)      0         \n",
            "_________________________________________________________________\n",
            "block2_conv1 (Conv2D)        (None, 113, 113, 128)     73856     \n",
            "_________________________________________________________________\n",
            "block2_conv2 (Conv2D)        (None, 113, 113, 128)     147584    \n",
            "_________________________________________________________________\n",
            "block2_pool (MaxPooling2D)   (None, 56, 56, 128)       0         \n",
            "_________________________________________________________________\n",
            "block3_conv1 (Conv2D)        (None, 56, 56, 256)       295168    \n",
            "_________________________________________________________________\n",
            "block3_conv2 (Conv2D)        (None, 56, 56, 256)       590080    \n",
            "_________________________________________________________________\n",
            "block3_conv3 (Conv2D)        (None, 56, 56, 256)       590080    \n",
            "_________________________________________________________________\n",
            "block3_pool (MaxPooling2D)   (None, 28, 28, 256)       0         \n",
            "_________________________________________________________________\n",
            "block4_conv1 (Conv2D)        (None, 28, 28, 512)       1180160   \n",
            "_________________________________________________________________\n",
            "block4_conv2 (Conv2D)        (None, 28, 28, 512)       2359808   \n",
            "_________________________________________________________________\n",
            "block4_conv3 (Conv2D)        (None, 28, 28, 512)       2359808   \n",
            "_________________________________________________________________\n",
            "block4_pool (MaxPooling2D)   (None, 14, 14, 512)       0         \n",
            "_________________________________________________________________\n",
            "block5_conv1 (Conv2D)        (None, 14, 14, 512)       2359808   \n",
            "_________________________________________________________________\n",
            "block5_conv2 (Conv2D)        (None, 14, 14, 512)       2359808   \n",
            "_________________________________________________________________\n",
            "block5_conv3 (Conv2D)        (None, 14, 14, 512)       2359808   \n",
            "_________________________________________________________________\n",
            "block5_pool (MaxPooling2D)   (None, 7, 7, 512)         0         \n",
            "_________________________________________________________________\n",
            "global_average_pooling2d (Gl (None, 512)               0         \n",
            "_________________________________________________________________\n",
            "dense (Dense)                (None, 3)                 1539      \n",
            "=================================================================\n",
            "Total params: 14,716,227\n",
            "Trainable params: 1,539\n",
            "Non-trainable params: 14,714,688\n",
            "_________________________________________________________________\n"
          ],
          "name": "stdout"
        }
      ]
    },
    {
      "cell_type": "markdown",
      "metadata": {
        "id": "Pm0Rh2cIE1Wo",
        "colab_type": "text"
      },
      "source": [
        "Run the cell below for about 3 to 4 epoch"
      ]
    },
    {
      "cell_type": "code",
      "metadata": {
        "id": "JkPvEss7DN1N",
        "colab_type": "code",
        "outputId": "76f8da58-e6b3-4265-a198-f1ae63538507",
        "colab": {
          "base_uri": "https://localhost:8080/",
          "height": 265
        }
      },
      "source": [
        "hist = model.fit_generator(\n",
        "        train_generator,\n",
        "        steps_per_epoch=32,\n",
        "        epochs=3,\n",
        "        validation_data = validation_generator,\n",
        "        validation_steps = 32,\n",
        "        callbacks=[checkpointer, early_stopping],\n",
        "        verbose=1,\n",
        "        class_weight = class_weight)"
      ],
      "execution_count": 0,
      "outputs": [
        {
          "output_type": "stream",
          "text": [
            "Epoch 1/3\n",
            "31/32 [============================>.] - ETA: 23s - loss: 0.3228 - acc: 0.8972Epoch 1/3\n",
            "32/32 [==============================] - 751s 23s/step - loss: 5.3802 - acc: 0.4170\n",
            "\n",
            "Epoch 00001: val_acc improved from -inf to 0.41699, saving model to Patch_CNN.h5\n",
            "32/32 [==============================] - 1517s 47s/step - loss: 0.3146 - acc: 0.9004 - val_loss: 5.3802 - val_acc: 0.4170\n",
            "Epoch 2/3\n",
            "31/32 [============================>.] - ETA: 16s - loss: 0.0533 - acc: 1.0000Epoch 1/3\n",
            "32/32 [==============================] - 7s 212ms/step - loss: 5.9481 - acc: 0.4170\n",
            "\n",
            "Epoch 00002: val_acc did not improve from 0.41699\n",
            "32/32 [==============================] - 541s 17s/step - loss: 0.0531 - acc: 1.0000 - val_loss: 5.9481 - val_acc: 0.4170\n",
            "Epoch 3/3\n",
            "10/32 [========>.....................] - ETA: 8:11 - loss: 0.0465 - acc: 1.0000"
          ],
          "name": "stdout"
        }
      ]
    },
    {
      "cell_type": "code",
      "metadata": {
        "id": "t3ePHBOjHoSX",
        "colab_type": "code",
        "colab": {}
      },
      "source": [
        "loss_history = hist.history['val_loss']\n",
        "acc_history = hist.history['val_acc']"
      ],
      "execution_count": 0,
      "outputs": []
    },
    {
      "cell_type": "markdown",
      "metadata": {
        "id": "k7c6D2cfVAIE",
        "colab_type": "text"
      },
      "source": [
        "# Second Stage of training with learning rate of 0.0001"
      ]
    },
    {
      "cell_type": "code",
      "metadata": {
        "id": "EYlDAPRMHDhj",
        "colab_type": "code",
        "outputId": "bbf88c8f-f8a5-4fb5-a92b-f136a897e6c8",
        "colab": {
          "base_uri": "https://localhost:8080/",
          "height": 905
        }
      },
      "source": [
        "Adam1 = tf.keras.optimizers.Adam(learning_rate = 0.0001)\n",
        "for layer in org_model.layers[top_layer_nb:]:\n",
        "  layer.trainable = True\n",
        "model.compile(loss='categorical_crossentropy',\n",
        "              optimizer=Adam1,\n",
        "              metrics=['accuracy'],\n",
        "              )\n",
        "model.summary()"
      ],
      "execution_count": 14,
      "outputs": [
        {
          "output_type": "stream",
          "text": [
            "Model: \"model\"\n",
            "_________________________________________________________________\n",
            "Layer (type)                 Output Shape              Param #   \n",
            "=================================================================\n",
            "input_1 (InputLayer)         [(None, 227, 227, 3)]     0         \n",
            "_________________________________________________________________\n",
            "block1_conv1 (Conv2D)        (None, 227, 227, 64)      1792      \n",
            "_________________________________________________________________\n",
            "block1_conv2 (Conv2D)        (None, 227, 227, 64)      36928     \n",
            "_________________________________________________________________\n",
            "block1_pool (MaxPooling2D)   (None, 113, 113, 64)      0         \n",
            "_________________________________________________________________\n",
            "block2_conv1 (Conv2D)        (None, 113, 113, 128)     73856     \n",
            "_________________________________________________________________\n",
            "block2_conv2 (Conv2D)        (None, 113, 113, 128)     147584    \n",
            "_________________________________________________________________\n",
            "block2_pool (MaxPooling2D)   (None, 56, 56, 128)       0         \n",
            "_________________________________________________________________\n",
            "block3_conv1 (Conv2D)        (None, 56, 56, 256)       295168    \n",
            "_________________________________________________________________\n",
            "block3_conv2 (Conv2D)        (None, 56, 56, 256)       590080    \n",
            "_________________________________________________________________\n",
            "block3_conv3 (Conv2D)        (None, 56, 56, 256)       590080    \n",
            "_________________________________________________________________\n",
            "block3_pool (MaxPooling2D)   (None, 28, 28, 256)       0         \n",
            "_________________________________________________________________\n",
            "block4_conv1 (Conv2D)        (None, 28, 28, 512)       1180160   \n",
            "_________________________________________________________________\n",
            "block4_conv2 (Conv2D)        (None, 28, 28, 512)       2359808   \n",
            "_________________________________________________________________\n",
            "block4_conv3 (Conv2D)        (None, 28, 28, 512)       2359808   \n",
            "_________________________________________________________________\n",
            "block4_pool (MaxPooling2D)   (None, 14, 14, 512)       0         \n",
            "_________________________________________________________________\n",
            "block5_conv1 (Conv2D)        (None, 14, 14, 512)       2359808   \n",
            "_________________________________________________________________\n",
            "block5_conv2 (Conv2D)        (None, 14, 14, 512)       2359808   \n",
            "_________________________________________________________________\n",
            "block5_conv3 (Conv2D)        (None, 14, 14, 512)       2359808   \n",
            "_________________________________________________________________\n",
            "block5_pool (MaxPooling2D)   (None, 7, 7, 512)         0         \n",
            "_________________________________________________________________\n",
            "global_average_pooling2d (Gl (None, 512)               0         \n",
            "_________________________________________________________________\n",
            "dense (Dense)                (None, 3)                 1539      \n",
            "=================================================================\n",
            "Total params: 14,716,227\n",
            "Trainable params: 7,080,963\n",
            "Non-trainable params: 7,635,264\n",
            "_________________________________________________________________\n"
          ],
          "name": "stdout"
        }
      ]
    },
    {
      "cell_type": "code",
      "metadata": {
        "id": "aj10FPmzSRcm",
        "colab_type": "code",
        "colab": {}
      },
      "source": [
        "from keras.callbacks import EarlyStopping, ModelCheckpoint\n",
        "# Model saving callback\n",
        "\n",
        "checkpointer1 = ModelCheckpoint(filepath='2ndPatch_CNN.h5', monitor='val_acc', verbose=1, save_best_only=True)\n",
        "\n",
        "# Early stopping\n",
        "early_stopping1 = EarlyStopping(monitor='val_acc', verbose=1, patience=5)"
      ],
      "execution_count": 0,
      "outputs": []
    },
    {
      "cell_type": "code",
      "metadata": {
        "id": "Mjo4cw2oJIUU",
        "colab_type": "code",
        "outputId": "398b5c08-cef9-4d79-f926-47a8e90fdd02",
        "colab": {
          "base_uri": "https://localhost:8080/",
          "height": 781
        }
      },
      "source": [
        "hist = model.fit_generator(\n",
        "        train_generator,\n",
        "        steps_per_epoch=32,\n",
        "        epochs=len(loss_history)+10,\n",
        "        validation_data = validation_generator,\n",
        "        validation_steps = 32,\n",
        "        callbacks=[checkpointer1, early_stopping1],\n",
        "        verbose=1,\n",
        "        initial_epoch = len(loss_history),\n",
        "        class_weight = class_weight)"
      ],
      "execution_count": 16,
      "outputs": [
        {
          "output_type": "stream",
          "text": [
            "Epoch 4/13\n",
            "31/32 [============================>.] - ETA: 19s - loss: 1.1982 - acc: 0.3871Epoch 1/13\n",
            "32/32 [==============================] - 4s 138ms/step - loss: 1.0904 - acc: 0.4326\n",
            "\n",
            "Epoch 00004: val_acc improved from -inf to 0.43262, saving model to 2ndPatch_CNN.h5\n",
            "32/32 [==============================] - 633s 20s/step - loss: 1.1951 - acc: 0.3887 - val_loss: 1.0904 - val_acc: 0.4326\n",
            "Epoch 5/13\n",
            "31/32 [============================>.] - ETA: 18s - loss: 1.0869 - acc: 0.4577Epoch 1/13\n",
            "32/32 [==============================] - 4s 136ms/step - loss: 1.1441 - acc: 0.5107\n",
            "\n",
            "Epoch 00005: val_acc improved from 0.43262 to 0.51074, saving model to 2ndPatch_CNN.h5\n",
            "32/32 [==============================] - 588s 18s/step - loss: 1.0878 - acc: 0.4570 - val_loss: 1.1441 - val_acc: 0.5107\n",
            "Epoch 6/13\n",
            "31/32 [============================>.] - ETA: 18s - loss: 1.0776 - acc: 0.4325Epoch 1/13\n",
            "32/32 [==============================] - 4s 136ms/step - loss: 1.2008 - acc: 0.4717\n",
            "\n",
            "Epoch 00006: val_acc did not improve from 0.51074\n",
            "32/32 [==============================] - 608s 19s/step - loss: 1.0771 - acc: 0.4307 - val_loss: 1.2008 - val_acc: 0.4717\n",
            "Epoch 7/13\n",
            "31/32 [============================>.] - ETA: 18s - loss: 1.0671 - acc: 0.4234Epoch 1/13\n",
            "32/32 [==============================] - 4s 134ms/step - loss: 1.4551 - acc: 0.4668\n",
            "\n",
            "Epoch 00007: val_acc did not improve from 0.51074\n",
            "32/32 [==============================] - 577s 18s/step - loss: 1.0668 - acc: 0.4219 - val_loss: 1.4551 - val_acc: 0.4668\n",
            "Epoch 8/13\n",
            "31/32 [============================>.] - ETA: 18s - loss: 1.1056 - acc: 0.4062Epoch 1/13\n",
            "32/32 [==============================] - 4s 133ms/step - loss: 1.3404 - acc: 0.4766\n",
            "\n",
            "Epoch 00008: val_acc did not improve from 0.51074\n",
            "32/32 [==============================] - 603s 19s/step - loss: 1.1054 - acc: 0.4082 - val_loss: 1.3404 - val_acc: 0.4766\n",
            "Epoch 9/13\n",
            "31/32 [============================>.] - ETA: 18s - loss: 1.0441 - acc: 0.4315Epoch 1/13\n",
            "32/32 [==============================] - 4s 134ms/step - loss: 1.4482 - acc: 0.5078\n",
            "\n",
            "Epoch 00009: val_acc did not improve from 0.51074\n",
            "32/32 [==============================] - 601s 19s/step - loss: 1.0479 - acc: 0.4268 - val_loss: 1.4482 - val_acc: 0.5078\n",
            "Epoch 10/13\n",
            "31/32 [============================>.] - ETA: 18s - loss: 1.0453 - acc: 0.4456Epoch 1/13\n",
            "32/32 [==============================] - 4s 138ms/step - loss: 1.6273 - acc: 0.5000\n",
            "\n",
            "Epoch 00010: val_acc did not improve from 0.51074\n",
            "32/32 [==============================] - 613s 19s/step - loss: 1.0460 - acc: 0.4443 - val_loss: 1.6273 - val_acc: 0.5000\n",
            "Epoch 00010: early stopping\n"
          ],
          "name": "stdout"
        }
      ]
    },
    {
      "cell_type": "code",
      "metadata": {
        "id": "-uzNN9QEJjOY",
        "colab_type": "code",
        "colab": {}
      },
      "source": [
        "import numpy as np\n",
        "loss_history = np.append(loss_history, hist.history['val_loss'])\n",
        "acc_history = np.append(acc_history, hist.history['val_acc'])"
      ],
      "execution_count": 0,
      "outputs": []
    },
    {
      "cell_type": "markdown",
      "metadata": {
        "id": "yFXGnAq8Wxs5",
        "colab_type": "text"
      },
      "source": [
        "# Third Stage of training with learning rate 0.00001"
      ]
    },
    {
      "cell_type": "code",
      "metadata": {
        "id": "olyBrfPlS35H",
        "colab_type": "code",
        "colab": {}
      },
      "source": [
        "for layers in org_model.layers[:top_layer_nb]:\n",
        "  layer.trainable = True"
      ],
      "execution_count": 0,
      "outputs": []
    },
    {
      "cell_type": "code",
      "metadata": {
        "id": "QJP6UgySTcSx",
        "colab_type": "code",
        "outputId": "9af90e86-94f1-41c6-e816-caec6b406af3",
        "colab": {
          "base_uri": "https://localhost:8080/",
          "height": 905
        }
      },
      "source": [
        "Adam2 = tf.keras.optimizers.Adam(learning_rate = 0.00001)\n",
        "model.compile(loss='categorical_crossentropy',\n",
        "              optimizer=Adam2,\n",
        "              metrics=['accuracy'],\n",
        "              )\n",
        "model.summary()"
      ],
      "execution_count": 0,
      "outputs": [
        {
          "output_type": "stream",
          "text": [
            "Model: \"model_20\"\n",
            "_________________________________________________________________\n",
            "Layer (type)                 Output Shape              Param #   \n",
            "=================================================================\n",
            "input_21 (InputLayer)        [(None, 227, 227, 3)]     0         \n",
            "_________________________________________________________________\n",
            "block1_conv1 (Conv2D)        (None, 227, 227, 64)      1792      \n",
            "_________________________________________________________________\n",
            "block1_conv2 (Conv2D)        (None, 227, 227, 64)      36928     \n",
            "_________________________________________________________________\n",
            "block1_pool (MaxPooling2D)   (None, 113, 113, 64)      0         \n",
            "_________________________________________________________________\n",
            "block2_conv1 (Conv2D)        (None, 113, 113, 128)     73856     \n",
            "_________________________________________________________________\n",
            "block2_conv2 (Conv2D)        (None, 113, 113, 128)     147584    \n",
            "_________________________________________________________________\n",
            "block2_pool (MaxPooling2D)   (None, 56, 56, 128)       0         \n",
            "_________________________________________________________________\n",
            "block3_conv1 (Conv2D)        (None, 56, 56, 256)       295168    \n",
            "_________________________________________________________________\n",
            "block3_conv2 (Conv2D)        (None, 56, 56, 256)       590080    \n",
            "_________________________________________________________________\n",
            "block3_conv3 (Conv2D)        (None, 56, 56, 256)       590080    \n",
            "_________________________________________________________________\n",
            "block3_pool (MaxPooling2D)   (None, 28, 28, 256)       0         \n",
            "_________________________________________________________________\n",
            "block4_conv1 (Conv2D)        (None, 28, 28, 512)       1180160   \n",
            "_________________________________________________________________\n",
            "block4_conv2 (Conv2D)        (None, 28, 28, 512)       2359808   \n",
            "_________________________________________________________________\n",
            "block4_conv3 (Conv2D)        (None, 28, 28, 512)       2359808   \n",
            "_________________________________________________________________\n",
            "block4_pool (MaxPooling2D)   (None, 14, 14, 512)       0         \n",
            "_________________________________________________________________\n",
            "block5_conv1 (Conv2D)        (None, 14, 14, 512)       2359808   \n",
            "_________________________________________________________________\n",
            "block5_conv2 (Conv2D)        (None, 14, 14, 512)       2359808   \n",
            "_________________________________________________________________\n",
            "block5_conv3 (Conv2D)        (None, 14, 14, 512)       2359808   \n",
            "_________________________________________________________________\n",
            "block5_pool (MaxPooling2D)   (None, 7, 7, 512)         0         \n",
            "_________________________________________________________________\n",
            "global_average_pooling2d_20  (None, 512)               0         \n",
            "_________________________________________________________________\n",
            "dense_20 (Dense)             (None, 3)                 1539      \n",
            "=================================================================\n",
            "Total params: 14,716,227\n",
            "Trainable params: 7,080,963\n",
            "Non-trainable params: 7,635,264\n",
            "_________________________________________________________________\n"
          ],
          "name": "stdout"
        }
      ]
    },
    {
      "cell_type": "code",
      "metadata": {
        "id": "fC5SLRtQTisA",
        "colab_type": "code",
        "colab": {}
      },
      "source": [
        "mod = tf.keras.models.load_model(\"/content/Patch_CNN.h5\")\n",
        "from keras.callbacks import EarlyStopping, ModelCheckpoint\n",
        "# Model saving callback\n",
        "\n",
        "checkpointer1 = ModelCheckpoint(filepath='3rdPatch_CNN.h5', monitor='val_acc', verbose=1, save_best_only=True)\n",
        "\n",
        "# Early stopping\n",
        "early_stopping1 = EarlyStopping(monitor='val_acc', verbose=1, patience=5)"
      ],
      "execution_count": 0,
      "outputs": []
    },
    {
      "cell_type": "code",
      "metadata": {
        "id": "n6nYOQkrT3Wz",
        "colab_type": "code",
        "outputId": "fa01eaca-6cc7-427c-f55f-9cd91e74590b",
        "colab": {
          "base_uri": "https://localhost:8080/",
          "height": 994
        }
      },
      "source": [
        "hist = model.fit_generator(\n",
        "        train_generator,\n",
        "        steps_per_epoch=32,\n",
        "        epochs=len(loss_history)+37,\n",
        "        validation_data = validation_generator,\n",
        "        validation_steps = 32,\n",
        "        callbacks=[checkpointer1, early_stopping1],\n",
        "        verbose=1,\n",
        "        initial_epoch = len(loss_history),\n",
        "        class_weight = class_weight)"
      ],
      "execution_count": 0,
      "outputs": [
        {
          "output_type": "stream",
          "text": [
            "Epoch 14/50\n",
            "31/32 [============================>.] - ETA: 0s - loss: 1.0173 - acc: 0.4748Epoch 1/50\n",
            "32/32 [==============================] - 5s 157ms/step - loss: 2.0147 - acc: 0.5176\n",
            "\n",
            "Epoch 00014: val_acc improved from -inf to 0.51758, saving model to 3rdPatch_CNN.h5\n",
            "32/32 [==============================] - 12s 365ms/step - loss: 1.0167 - acc: 0.4697 - val_loss: 2.0147 - val_acc: 0.5176\n",
            "Epoch 15/50\n",
            "31/32 [============================>.] - ETA: 0s - loss: 0.9975 - acc: 0.4980Epoch 1/50\n",
            "32/32 [==============================] - 5s 149ms/step - loss: 2.3738 - acc: 0.5225\n",
            "\n",
            "Epoch 00015: val_acc improved from 0.51758 to 0.52246, saving model to 3rdPatch_CNN.h5\n",
            "32/32 [==============================] - 8s 253ms/step - loss: 0.9951 - acc: 0.5029 - val_loss: 2.3738 - val_acc: 0.5225\n",
            "Epoch 16/50\n",
            "31/32 [============================>.] - ETA: 0s - loss: 1.0212 - acc: 0.4708Epoch 1/50\n",
            "32/32 [==============================] - 5s 149ms/step - loss: 2.5427 - acc: 0.5186\n",
            "\n",
            "Epoch 00016: val_acc did not improve from 0.52246\n",
            "32/32 [==============================] - 8s 245ms/step - loss: 1.0206 - acc: 0.4736 - val_loss: 2.5427 - val_acc: 0.5186\n",
            "Epoch 17/50\n",
            "31/32 [============================>.] - ETA: 0s - loss: 1.0135 - acc: 0.4879Epoch 1/50\n",
            "32/32 [==============================] - 5s 148ms/step - loss: 2.5628 - acc: 0.5303\n",
            "\n",
            "Epoch 00017: val_acc improved from 0.52246 to 0.53027, saving model to 3rdPatch_CNN.h5\n",
            "32/32 [==============================] - 8s 253ms/step - loss: 1.0112 - acc: 0.4922 - val_loss: 2.5628 - val_acc: 0.5303\n",
            "Epoch 18/50\n",
            "31/32 [============================>.] - ETA: 0s - loss: 0.9961 - acc: 0.4849Epoch 1/50\n",
            "32/32 [==============================] - 5s 149ms/step - loss: 2.2969 - acc: 0.5244\n",
            "\n",
            "Epoch 00018: val_acc did not improve from 0.53027\n",
            "32/32 [==============================] - 8s 246ms/step - loss: 0.9904 - acc: 0.4873 - val_loss: 2.2969 - val_acc: 0.5244\n",
            "Epoch 19/50\n",
            "31/32 [============================>.] - ETA: 0s - loss: 1.0205 - acc: 0.4657Epoch 1/50\n",
            "32/32 [==============================] - 5s 155ms/step - loss: 2.2100 - acc: 0.5098\n",
            "\n",
            "Epoch 00019: val_acc did not improve from 0.53027\n",
            "32/32 [==============================] - 8s 255ms/step - loss: 1.0199 - acc: 0.4688 - val_loss: 2.2100 - val_acc: 0.5098\n",
            "Epoch 20/50\n",
            "31/32 [============================>.] - ETA: 0s - loss: 1.0082 - acc: 0.4808Epoch 1/50\n",
            "32/32 [==============================] - 5s 147ms/step - loss: 2.1573 - acc: 0.5244\n",
            "\n",
            "Epoch 00020: val_acc did not improve from 0.53027\n",
            "32/32 [==============================] - 8s 254ms/step - loss: 1.0053 - acc: 0.4873 - val_loss: 2.1573 - val_acc: 0.5244\n",
            "Epoch 21/50\n",
            "31/32 [============================>.] - ETA: 0s - loss: 1.0291 - acc: 0.4667Epoch 1/50\n",
            "32/32 [==============================] - 5s 169ms/step - loss: 2.2989 - acc: 0.5039\n",
            "\n",
            "Epoch 00021: val_acc did not improve from 0.53027\n",
            "32/32 [==============================] - 9s 268ms/step - loss: 1.0297 - acc: 0.4697 - val_loss: 2.2989 - val_acc: 0.5039\n",
            "Epoch 22/50\n",
            "31/32 [============================>.] - ETA: 0s - loss: 1.0043 - acc: 0.4788Epoch 1/50\n",
            "32/32 [==============================] - 5s 146ms/step - loss: 2.1576 - acc: 0.5127\n",
            "\n",
            "Epoch 00022: val_acc did not improve from 0.53027\n",
            "32/32 [==============================] - 8s 242ms/step - loss: 1.0040 - acc: 0.4814 - val_loss: 2.1576 - val_acc: 0.5127\n",
            "Epoch 00022: early stopping\n"
          ],
          "name": "stdout"
        }
      ]
    },
    {
      "cell_type": "code",
      "metadata": {
        "id": "npu2xvfTT8nO",
        "colab_type": "code",
        "colab": {}
      },
      "source": [
        ""
      ],
      "execution_count": 0,
      "outputs": []
    }
  ]
}